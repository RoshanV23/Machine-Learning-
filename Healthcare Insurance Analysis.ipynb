{
 "cells": [
  {
   "cell_type": "code",
   "execution_count": 1,
   "id": "67f57217-836f-41a8-9860-8005dd1b3044",
   "metadata": {},
   "outputs": [],
   "source": [
    "import pandas as pd\n",
    "import numpy as np\n",
    "import seaborn as sns\n",
    "import matplotlib.pyplot as plt\n",
    "import warnings\n",
    "warnings.filterwarnings('ignore')"
   ]
  },
  {
   "cell_type": "code",
   "execution_count": 2,
   "id": "7a6dea3f-f46e-4f56-ab86-dfbca89ffa72",
   "metadata": {},
   "outputs": [],
   "source": [
    "hosp= pd.read_csv('Hospitalisation details.csv')\n",
    "medical= pd.read_csv('Medical Examinations.csv')\n",
    "names= pd.read_excel('Names.xlsx')"
   ]
  },
  {
   "cell_type": "code",
   "execution_count": 3,
   "id": "386e555b-ffbe-4f98-bce5-7f95b295c5fc",
   "metadata": {},
   "outputs": [
    {
     "name": "stdout",
     "output_type": "stream",
     "text": [
      "<class 'pandas.core.frame.DataFrame'>\n",
      "RangeIndex: 2343 entries, 0 to 2342\n",
      "Data columns (total 9 columns):\n",
      " #   Column         Non-Null Count  Dtype  \n",
      "---  ------         --------------  -----  \n",
      " 0   Customer ID    2343 non-null   object \n",
      " 1   year           2343 non-null   object \n",
      " 2   month          2343 non-null   object \n",
      " 3   date           2343 non-null   int64  \n",
      " 4   children       2343 non-null   int64  \n",
      " 5   charges        2343 non-null   float64\n",
      " 6   Hospital tier  2343 non-null   object \n",
      " 7   City tier      2343 non-null   object \n",
      " 8   State ID       2343 non-null   object \n",
      "dtypes: float64(1), int64(2), object(6)\n",
      "memory usage: 164.9+ KB\n"
     ]
    }
   ],
   "source": [
    "hosp.info()"
   ]
  },
  {
   "cell_type": "code",
   "execution_count": 4,
   "id": "bb60d673-f7c8-4e2a-957e-9818fd729e8e",
   "metadata": {},
   "outputs": [
    {
     "name": "stdout",
     "output_type": "stream",
     "text": [
      "<class 'pandas.core.frame.DataFrame'>\n",
      "RangeIndex: 2335 entries, 0 to 2334\n",
      "Data columns (total 8 columns):\n",
      " #   Column                  Non-Null Count  Dtype  \n",
      "---  ------                  --------------  -----  \n",
      " 0   Customer ID             2335 non-null   object \n",
      " 1   BMI                     2335 non-null   float64\n",
      " 2   HBA1C                   2335 non-null   float64\n",
      " 3   Heart Issues            2335 non-null   object \n",
      " 4   Any Transplants         2335 non-null   object \n",
      " 5   Cancer history          2335 non-null   object \n",
      " 6   NumberOfMajorSurgeries  2335 non-null   object \n",
      " 7   smoker                  2335 non-null   object \n",
      "dtypes: float64(2), object(6)\n",
      "memory usage: 146.1+ KB\n"
     ]
    }
   ],
   "source": [
    "medical.info()"
   ]
  },
  {
   "cell_type": "code",
   "execution_count": 5,
   "id": "50551993-ecc2-47e8-b265-6c0428002582",
   "metadata": {},
   "outputs": [
    {
     "name": "stdout",
     "output_type": "stream",
     "text": [
      "<class 'pandas.core.frame.DataFrame'>\n",
      "RangeIndex: 2335 entries, 0 to 2334\n",
      "Data columns (total 2 columns):\n",
      " #   Column       Non-Null Count  Dtype \n",
      "---  ------       --------------  ----- \n",
      " 0   Customer ID  2335 non-null   object\n",
      " 1   name         2335 non-null   object\n",
      "dtypes: object(2)\n",
      "memory usage: 36.6+ KB\n"
     ]
    }
   ],
   "source": [
    "names.info()"
   ]
  },
  {
   "cell_type": "markdown",
   "id": "8a420d67-4f79-4056-b820-5d211df613df",
   "metadata": {},
   "source": [
    "### 1. Collate the files so that all the information is in one place"
   ]
  },
  {
   "cell_type": "code",
   "execution_count": 7,
   "id": "35e7ceb5-2edf-4dc5-bf77-096c4b6202f5",
   "metadata": {},
   "outputs": [],
   "source": [
    "firmerge= pd.merge(hosp,medical, on='Customer ID')\n",
    "data= pd.merge(firmerge,names, on='Customer ID')"
   ]
  },
  {
   "cell_type": "code",
   "execution_count": 8,
   "id": "2a1bbb0f-21ed-4119-8ac3-87c743eeb0f4",
   "metadata": {},
   "outputs": [
    {
     "data": {
      "text/html": [
       "<div>\n",
       "<style scoped>\n",
       "    .dataframe tbody tr th:only-of-type {\n",
       "        vertical-align: middle;\n",
       "    }\n",
       "\n",
       "    .dataframe tbody tr th {\n",
       "        vertical-align: top;\n",
       "    }\n",
       "\n",
       "    .dataframe thead th {\n",
       "        text-align: right;\n",
       "    }\n",
       "</style>\n",
       "<table border=\"1\" class=\"dataframe\">\n",
       "  <thead>\n",
       "    <tr style=\"text-align: right;\">\n",
       "      <th></th>\n",
       "      <th>Customer ID</th>\n",
       "      <th>year</th>\n",
       "      <th>month</th>\n",
       "      <th>date</th>\n",
       "      <th>children</th>\n",
       "      <th>charges</th>\n",
       "      <th>Hospital tier</th>\n",
       "      <th>City tier</th>\n",
       "      <th>State ID</th>\n",
       "      <th>BMI</th>\n",
       "      <th>HBA1C</th>\n",
       "      <th>Heart Issues</th>\n",
       "      <th>Any Transplants</th>\n",
       "      <th>Cancer history</th>\n",
       "      <th>NumberOfMajorSurgeries</th>\n",
       "      <th>smoker</th>\n",
       "      <th>name</th>\n",
       "    </tr>\n",
       "  </thead>\n",
       "  <tbody>\n",
       "    <tr>\n",
       "      <th>0</th>\n",
       "      <td>Id2335</td>\n",
       "      <td>1992</td>\n",
       "      <td>Jul</td>\n",
       "      <td>9</td>\n",
       "      <td>0</td>\n",
       "      <td>563.84</td>\n",
       "      <td>tier - 2</td>\n",
       "      <td>tier - 3</td>\n",
       "      <td>R1013</td>\n",
       "      <td>17.580</td>\n",
       "      <td>4.51</td>\n",
       "      <td>No</td>\n",
       "      <td>No</td>\n",
       "      <td>No</td>\n",
       "      <td>1</td>\n",
       "      <td>No</td>\n",
       "      <td>German, Mr.  Aaron K</td>\n",
       "    </tr>\n",
       "    <tr>\n",
       "      <th>1</th>\n",
       "      <td>Id2334</td>\n",
       "      <td>1992</td>\n",
       "      <td>Nov</td>\n",
       "      <td>30</td>\n",
       "      <td>0</td>\n",
       "      <td>570.62</td>\n",
       "      <td>tier - 2</td>\n",
       "      <td>tier - 1</td>\n",
       "      <td>R1013</td>\n",
       "      <td>17.600</td>\n",
       "      <td>4.39</td>\n",
       "      <td>No</td>\n",
       "      <td>No</td>\n",
       "      <td>No</td>\n",
       "      <td>1</td>\n",
       "      <td>No</td>\n",
       "      <td>Rosendahl, Mr.  Evan P</td>\n",
       "    </tr>\n",
       "    <tr>\n",
       "      <th>2</th>\n",
       "      <td>Id2333</td>\n",
       "      <td>1993</td>\n",
       "      <td>Jun</td>\n",
       "      <td>30</td>\n",
       "      <td>0</td>\n",
       "      <td>600.00</td>\n",
       "      <td>tier - 2</td>\n",
       "      <td>tier - 1</td>\n",
       "      <td>R1013</td>\n",
       "      <td>16.470</td>\n",
       "      <td>6.35</td>\n",
       "      <td>No</td>\n",
       "      <td>No</td>\n",
       "      <td>Yes</td>\n",
       "      <td>1</td>\n",
       "      <td>No</td>\n",
       "      <td>Albano, Ms.  Julie</td>\n",
       "    </tr>\n",
       "    <tr>\n",
       "      <th>3</th>\n",
       "      <td>Id2332</td>\n",
       "      <td>1992</td>\n",
       "      <td>Sep</td>\n",
       "      <td>13</td>\n",
       "      <td>0</td>\n",
       "      <td>604.54</td>\n",
       "      <td>tier - 3</td>\n",
       "      <td>tier - 3</td>\n",
       "      <td>R1013</td>\n",
       "      <td>17.700</td>\n",
       "      <td>6.28</td>\n",
       "      <td>No</td>\n",
       "      <td>No</td>\n",
       "      <td>No</td>\n",
       "      <td>1</td>\n",
       "      <td>No</td>\n",
       "      <td>Riveros Gonzalez, Mr.  Juan D. Sr.</td>\n",
       "    </tr>\n",
       "    <tr>\n",
       "      <th>4</th>\n",
       "      <td>Id2331</td>\n",
       "      <td>1998</td>\n",
       "      <td>Jul</td>\n",
       "      <td>27</td>\n",
       "      <td>0</td>\n",
       "      <td>637.26</td>\n",
       "      <td>tier - 3</td>\n",
       "      <td>tier - 3</td>\n",
       "      <td>R1013</td>\n",
       "      <td>22.340</td>\n",
       "      <td>5.57</td>\n",
       "      <td>No</td>\n",
       "      <td>No</td>\n",
       "      <td>No</td>\n",
       "      <td>1</td>\n",
       "      <td>No</td>\n",
       "      <td>Brietzke, Mr.  Jordan</td>\n",
       "    </tr>\n",
       "    <tr>\n",
       "      <th>...</th>\n",
       "      <td>...</td>\n",
       "      <td>...</td>\n",
       "      <td>...</td>\n",
       "      <td>...</td>\n",
       "      <td>...</td>\n",
       "      <td>...</td>\n",
       "      <td>...</td>\n",
       "      <td>...</td>\n",
       "      <td>...</td>\n",
       "      <td>...</td>\n",
       "      <td>...</td>\n",
       "      <td>...</td>\n",
       "      <td>...</td>\n",
       "      <td>...</td>\n",
       "      <td>...</td>\n",
       "      <td>...</td>\n",
       "      <td>...</td>\n",
       "    </tr>\n",
       "    <tr>\n",
       "      <th>2330</th>\n",
       "      <td>Id5</td>\n",
       "      <td>1989</td>\n",
       "      <td>Jun</td>\n",
       "      <td>19</td>\n",
       "      <td>0</td>\n",
       "      <td>55135.40</td>\n",
       "      <td>tier - 1</td>\n",
       "      <td>tier - 2</td>\n",
       "      <td>R1012</td>\n",
       "      <td>35.530</td>\n",
       "      <td>5.45</td>\n",
       "      <td>No</td>\n",
       "      <td>No</td>\n",
       "      <td>No</td>\n",
       "      <td>No major surgery</td>\n",
       "      <td>yes</td>\n",
       "      <td>Kadala, Ms.  Kristyn</td>\n",
       "    </tr>\n",
       "    <tr>\n",
       "      <th>2331</th>\n",
       "      <td>Id4</td>\n",
       "      <td>1991</td>\n",
       "      <td>Jun</td>\n",
       "      <td>6</td>\n",
       "      <td>1</td>\n",
       "      <td>58571.07</td>\n",
       "      <td>tier - 1</td>\n",
       "      <td>tier - 3</td>\n",
       "      <td>R1024</td>\n",
       "      <td>38.095</td>\n",
       "      <td>6.05</td>\n",
       "      <td>No</td>\n",
       "      <td>No</td>\n",
       "      <td>No</td>\n",
       "      <td>No major surgery</td>\n",
       "      <td>yes</td>\n",
       "      <td>Osborne, Ms.  Kelsey</td>\n",
       "    </tr>\n",
       "    <tr>\n",
       "      <th>2332</th>\n",
       "      <td>Id3</td>\n",
       "      <td>1970</td>\n",
       "      <td>?</td>\n",
       "      <td>11</td>\n",
       "      <td>3</td>\n",
       "      <td>60021.40</td>\n",
       "      <td>tier - 1</td>\n",
       "      <td>tier - 1</td>\n",
       "      <td>R1012</td>\n",
       "      <td>34.485</td>\n",
       "      <td>11.87</td>\n",
       "      <td>yes</td>\n",
       "      <td>No</td>\n",
       "      <td>No</td>\n",
       "      <td>2</td>\n",
       "      <td>yes</td>\n",
       "      <td>Lu, Mr.  Phil</td>\n",
       "    </tr>\n",
       "    <tr>\n",
       "      <th>2333</th>\n",
       "      <td>Id2</td>\n",
       "      <td>1977</td>\n",
       "      <td>Jun</td>\n",
       "      <td>8</td>\n",
       "      <td>0</td>\n",
       "      <td>62592.87</td>\n",
       "      <td>tier - 2</td>\n",
       "      <td>tier - 3</td>\n",
       "      <td>R1013</td>\n",
       "      <td>30.360</td>\n",
       "      <td>5.77</td>\n",
       "      <td>No</td>\n",
       "      <td>No</td>\n",
       "      <td>No</td>\n",
       "      <td>No major surgery</td>\n",
       "      <td>yes</td>\n",
       "      <td>Lehner, Mr.  Matthew D</td>\n",
       "    </tr>\n",
       "    <tr>\n",
       "      <th>2334</th>\n",
       "      <td>Id1</td>\n",
       "      <td>1968</td>\n",
       "      <td>Oct</td>\n",
       "      <td>12</td>\n",
       "      <td>0</td>\n",
       "      <td>63770.43</td>\n",
       "      <td>tier - 1</td>\n",
       "      <td>tier - 3</td>\n",
       "      <td>R1013</td>\n",
       "      <td>47.410</td>\n",
       "      <td>7.47</td>\n",
       "      <td>No</td>\n",
       "      <td>No</td>\n",
       "      <td>No</td>\n",
       "      <td>No major surgery</td>\n",
       "      <td>yes</td>\n",
       "      <td>Hawks, Ms.  Kelly</td>\n",
       "    </tr>\n",
       "  </tbody>\n",
       "</table>\n",
       "<p>2335 rows × 17 columns</p>\n",
       "</div>"
      ],
      "text/plain": [
       "     Customer ID  year month  date  children   charges Hospital tier  \\\n",
       "0         Id2335  1992   Jul     9         0    563.84      tier - 2   \n",
       "1         Id2334  1992   Nov    30         0    570.62      tier - 2   \n",
       "2         Id2333  1993   Jun    30         0    600.00      tier - 2   \n",
       "3         Id2332  1992   Sep    13         0    604.54      tier - 3   \n",
       "4         Id2331  1998   Jul    27         0    637.26      tier - 3   \n",
       "...          ...   ...   ...   ...       ...       ...           ...   \n",
       "2330         Id5  1989   Jun    19         0  55135.40      tier - 1   \n",
       "2331         Id4  1991   Jun     6         1  58571.07      tier - 1   \n",
       "2332         Id3  1970     ?    11         3  60021.40      tier - 1   \n",
       "2333         Id2  1977   Jun     8         0  62592.87      tier - 2   \n",
       "2334         Id1  1968   Oct    12         0  63770.43      tier - 1   \n",
       "\n",
       "     City tier State ID     BMI  HBA1C Heart Issues Any Transplants  \\\n",
       "0     tier - 3    R1013  17.580   4.51           No              No   \n",
       "1     tier - 1    R1013  17.600   4.39           No              No   \n",
       "2     tier - 1    R1013  16.470   6.35           No              No   \n",
       "3     tier - 3    R1013  17.700   6.28           No              No   \n",
       "4     tier - 3    R1013  22.340   5.57           No              No   \n",
       "...        ...      ...     ...    ...          ...             ...   \n",
       "2330  tier - 2    R1012  35.530   5.45           No              No   \n",
       "2331  tier - 3    R1024  38.095   6.05           No              No   \n",
       "2332  tier - 1    R1012  34.485  11.87          yes              No   \n",
       "2333  tier - 3    R1013  30.360   5.77           No              No   \n",
       "2334  tier - 3    R1013  47.410   7.47           No              No   \n",
       "\n",
       "     Cancer history NumberOfMajorSurgeries smoker  \\\n",
       "0                No                      1     No   \n",
       "1                No                      1     No   \n",
       "2               Yes                      1     No   \n",
       "3                No                      1     No   \n",
       "4                No                      1     No   \n",
       "...             ...                    ...    ...   \n",
       "2330             No       No major surgery    yes   \n",
       "2331             No       No major surgery    yes   \n",
       "2332             No                      2    yes   \n",
       "2333             No       No major surgery    yes   \n",
       "2334             No       No major surgery    yes   \n",
       "\n",
       "                                    name  \n",
       "0                   German, Mr.  Aaron K  \n",
       "1                 Rosendahl, Mr.  Evan P  \n",
       "2                     Albano, Ms.  Julie  \n",
       "3     Riveros Gonzalez, Mr.  Juan D. Sr.  \n",
       "4                  Brietzke, Mr.  Jordan  \n",
       "...                                  ...  \n",
       "2330                Kadala, Ms.  Kristyn  \n",
       "2331                Osborne, Ms.  Kelsey  \n",
       "2332                       Lu, Mr.  Phil  \n",
       "2333              Lehner, Mr.  Matthew D  \n",
       "2334                   Hawks, Ms.  Kelly  \n",
       "\n",
       "[2335 rows x 17 columns]"
      ]
     },
     "execution_count": 8,
     "metadata": {},
     "output_type": "execute_result"
    }
   ],
   "source": [
    "data"
   ]
  },
  {
   "cell_type": "code",
   "execution_count": 9,
   "id": "6b7ec029-3735-415f-aea6-024dafadfa5d",
   "metadata": {},
   "outputs": [
    {
     "data": {
      "text/html": [
       "<div>\n",
       "<style scoped>\n",
       "    .dataframe tbody tr th:only-of-type {\n",
       "        vertical-align: middle;\n",
       "    }\n",
       "\n",
       "    .dataframe tbody tr th {\n",
       "        vertical-align: top;\n",
       "    }\n",
       "\n",
       "    .dataframe thead th {\n",
       "        text-align: right;\n",
       "    }\n",
       "</style>\n",
       "<table border=\"1\" class=\"dataframe\">\n",
       "  <thead>\n",
       "    <tr style=\"text-align: right;\">\n",
       "      <th></th>\n",
       "      <th>Customer ID</th>\n",
       "      <th>year</th>\n",
       "      <th>month</th>\n",
       "      <th>date</th>\n",
       "      <th>children</th>\n",
       "      <th>charges</th>\n",
       "      <th>Hospital tier</th>\n",
       "      <th>City tier</th>\n",
       "      <th>State ID</th>\n",
       "      <th>BMI</th>\n",
       "      <th>HBA1C</th>\n",
       "      <th>Heart Issues</th>\n",
       "      <th>Any Transplants</th>\n",
       "      <th>Cancer history</th>\n",
       "      <th>NumberOfMajorSurgeries</th>\n",
       "      <th>smoker</th>\n",
       "      <th>name</th>\n",
       "    </tr>\n",
       "  </thead>\n",
       "  <tbody>\n",
       "    <tr>\n",
       "      <th>0</th>\n",
       "      <td>Id2335</td>\n",
       "      <td>1992</td>\n",
       "      <td>Jul</td>\n",
       "      <td>9</td>\n",
       "      <td>0</td>\n",
       "      <td>563.84</td>\n",
       "      <td>tier - 2</td>\n",
       "      <td>tier - 3</td>\n",
       "      <td>R1013</td>\n",
       "      <td>17.58</td>\n",
       "      <td>4.51</td>\n",
       "      <td>No</td>\n",
       "      <td>No</td>\n",
       "      <td>No</td>\n",
       "      <td>1</td>\n",
       "      <td>No</td>\n",
       "      <td>German, Mr.  Aaron K</td>\n",
       "    </tr>\n",
       "    <tr>\n",
       "      <th>1</th>\n",
       "      <td>Id2334</td>\n",
       "      <td>1992</td>\n",
       "      <td>Nov</td>\n",
       "      <td>30</td>\n",
       "      <td>0</td>\n",
       "      <td>570.62</td>\n",
       "      <td>tier - 2</td>\n",
       "      <td>tier - 1</td>\n",
       "      <td>R1013</td>\n",
       "      <td>17.60</td>\n",
       "      <td>4.39</td>\n",
       "      <td>No</td>\n",
       "      <td>No</td>\n",
       "      <td>No</td>\n",
       "      <td>1</td>\n",
       "      <td>No</td>\n",
       "      <td>Rosendahl, Mr.  Evan P</td>\n",
       "    </tr>\n",
       "    <tr>\n",
       "      <th>2</th>\n",
       "      <td>Id2333</td>\n",
       "      <td>1993</td>\n",
       "      <td>Jun</td>\n",
       "      <td>30</td>\n",
       "      <td>0</td>\n",
       "      <td>600.00</td>\n",
       "      <td>tier - 2</td>\n",
       "      <td>tier - 1</td>\n",
       "      <td>R1013</td>\n",
       "      <td>16.47</td>\n",
       "      <td>6.35</td>\n",
       "      <td>No</td>\n",
       "      <td>No</td>\n",
       "      <td>Yes</td>\n",
       "      <td>1</td>\n",
       "      <td>No</td>\n",
       "      <td>Albano, Ms.  Julie</td>\n",
       "    </tr>\n",
       "    <tr>\n",
       "      <th>3</th>\n",
       "      <td>Id2332</td>\n",
       "      <td>1992</td>\n",
       "      <td>Sep</td>\n",
       "      <td>13</td>\n",
       "      <td>0</td>\n",
       "      <td>604.54</td>\n",
       "      <td>tier - 3</td>\n",
       "      <td>tier - 3</td>\n",
       "      <td>R1013</td>\n",
       "      <td>17.70</td>\n",
       "      <td>6.28</td>\n",
       "      <td>No</td>\n",
       "      <td>No</td>\n",
       "      <td>No</td>\n",
       "      <td>1</td>\n",
       "      <td>No</td>\n",
       "      <td>Riveros Gonzalez, Mr.  Juan D. Sr.</td>\n",
       "    </tr>\n",
       "    <tr>\n",
       "      <th>4</th>\n",
       "      <td>Id2331</td>\n",
       "      <td>1998</td>\n",
       "      <td>Jul</td>\n",
       "      <td>27</td>\n",
       "      <td>0</td>\n",
       "      <td>637.26</td>\n",
       "      <td>tier - 3</td>\n",
       "      <td>tier - 3</td>\n",
       "      <td>R1013</td>\n",
       "      <td>22.34</td>\n",
       "      <td>5.57</td>\n",
       "      <td>No</td>\n",
       "      <td>No</td>\n",
       "      <td>No</td>\n",
       "      <td>1</td>\n",
       "      <td>No</td>\n",
       "      <td>Brietzke, Mr.  Jordan</td>\n",
       "    </tr>\n",
       "  </tbody>\n",
       "</table>\n",
       "</div>"
      ],
      "text/plain": [
       "  Customer ID  year month  date  children  charges Hospital tier City tier  \\\n",
       "0      Id2335  1992   Jul     9         0   563.84      tier - 2  tier - 3   \n",
       "1      Id2334  1992   Nov    30         0   570.62      tier - 2  tier - 1   \n",
       "2      Id2333  1993   Jun    30         0   600.00      tier - 2  tier - 1   \n",
       "3      Id2332  1992   Sep    13         0   604.54      tier - 3  tier - 3   \n",
       "4      Id2331  1998   Jul    27         0   637.26      tier - 3  tier - 3   \n",
       "\n",
       "  State ID    BMI  HBA1C Heart Issues Any Transplants Cancer history  \\\n",
       "0    R1013  17.58   4.51           No              No             No   \n",
       "1    R1013  17.60   4.39           No              No             No   \n",
       "2    R1013  16.47   6.35           No              No            Yes   \n",
       "3    R1013  17.70   6.28           No              No             No   \n",
       "4    R1013  22.34   5.57           No              No             No   \n",
       "\n",
       "  NumberOfMajorSurgeries smoker                                name  \n",
       "0                      1     No                German, Mr.  Aaron K  \n",
       "1                      1     No              Rosendahl, Mr.  Evan P  \n",
       "2                      1     No                  Albano, Ms.  Julie  \n",
       "3                      1     No  Riveros Gonzalez, Mr.  Juan D. Sr.  \n",
       "4                      1     No               Brietzke, Mr.  Jordan  "
      ]
     },
     "execution_count": 9,
     "metadata": {},
     "output_type": "execute_result"
    }
   ],
   "source": [
    "data.head()"
   ]
  },
  {
   "cell_type": "markdown",
   "id": "d0972340-7183-421e-9b9b-1bc279f097c0",
   "metadata": {},
   "source": [
    "### 2. Check for missing values in the dataset"
   ]
  },
  {
   "cell_type": "code",
   "execution_count": 11,
   "id": "489f7adc-7edb-4a8f-841f-440c3d14d709",
   "metadata": {},
   "outputs": [
    {
     "data": {
      "text/plain": [
       "Customer ID               0\n",
       "year                      0\n",
       "month                     0\n",
       "date                      0\n",
       "children                  0\n",
       "charges                   0\n",
       "Hospital tier             0\n",
       "City tier                 0\n",
       "State ID                  0\n",
       "BMI                       0\n",
       "HBA1C                     0\n",
       "Heart Issues              0\n",
       "Any Transplants           0\n",
       "Cancer history            0\n",
       "NumberOfMajorSurgeries    0\n",
       "smoker                    0\n",
       "name                      0\n",
       "dtype: int64"
      ]
     },
     "execution_count": 11,
     "metadata": {},
     "output_type": "execute_result"
    }
   ],
   "source": [
    "data.isna().sum()"
   ]
  },
  {
   "cell_type": "markdown",
   "id": "74a74579-2f58-4f9a-ac2b-5f5786d568a1",
   "metadata": {},
   "source": [
    "### 3. Find the percentage of rows that have trivial value (for example, ?), and delete such rows if they do not contain significant information"
   ]
  },
  {
   "cell_type": "code",
   "execution_count": 13,
   "id": "0e860d2d-e086-4443-a5c2-1c3bfc92a71b",
   "metadata": {},
   "outputs": [],
   "source": [
    "trivial_rows= data[data=='?'].count(axis=1).sum()"
   ]
  },
  {
   "cell_type": "code",
   "execution_count": 14,
   "id": "82ce0f1e-78b6-44c9-b4ef-83bcf9973830",
   "metadata": {},
   "outputs": [
    {
     "data": {
      "text/plain": [
       "11"
      ]
     },
     "execution_count": 14,
     "metadata": {},
     "output_type": "execute_result"
    }
   ],
   "source": [
    "trivial_rows"
   ]
  },
  {
   "cell_type": "code",
   "execution_count": 15,
   "id": "d3de0527-08a7-4498-8c5c-e9591f3e0212",
   "metadata": {},
   "outputs": [
    {
     "data": {
      "text/plain": [
       "(2335, 17)"
      ]
     },
     "execution_count": 15,
     "metadata": {},
     "output_type": "execute_result"
    }
   ],
   "source": [
    "total_rows= data.shape\n",
    "total_rows"
   ]
  },
  {
   "cell_type": "code",
   "execution_count": 16,
   "id": "2d2fd3c6-562c-4cac-b57a-7cb0b9153070",
   "metadata": {},
   "outputs": [],
   "source": [
    "data= data[data != '?'].dropna()"
   ]
  },
  {
   "cell_type": "code",
   "execution_count": 17,
   "id": "24b0c7a5-0fdf-467d-bd14-548785442881",
   "metadata": {},
   "outputs": [
    {
     "data": {
      "text/plain": [
       "(2325, 17)"
      ]
     },
     "execution_count": 17,
     "metadata": {},
     "output_type": "execute_result"
    }
   ],
   "source": [
    "data.shape"
   ]
  },
  {
   "cell_type": "markdown",
   "id": "ac52f152-322f-43cb-8cf7-b026e9436bcf",
   "metadata": {},
   "source": [
    "### 4. Use the necessary transformation methods to deal with the nominal and ordinal categorical variables in the dataset"
   ]
  },
  {
   "cell_type": "code",
   "execution_count": 19,
   "id": "ea1c033a-6e98-4d5d-a436-ac6c7b498348",
   "metadata": {},
   "outputs": [
    {
     "data": {
      "text/plain": [
       "Index(['Customer ID', 'year', 'month', 'Hospital tier', 'City tier',\n",
       "       'State ID', 'Heart Issues', 'Any Transplants', 'Cancer history',\n",
       "       'NumberOfMajorSurgeries', 'smoker', 'name'],\n",
       "      dtype='object')"
      ]
     },
     "execution_count": 19,
     "metadata": {},
     "output_type": "execute_result"
    }
   ],
   "source": [
    "data_catg= data.select_dtypes(exclude='number')\n",
    "data_catg.columns"
   ]
  },
  {
   "cell_type": "code",
   "execution_count": 20,
   "id": "6d9f431c-78fc-4cda-be8e-4101c7844970",
   "metadata": {},
   "outputs": [
    {
     "data": {
      "text/plain": [
       "Heart Issues\n",
       "No     1405\n",
       "yes     920\n",
       "Name: count, dtype: int64"
      ]
     },
     "execution_count": 20,
     "metadata": {},
     "output_type": "execute_result"
    }
   ],
   "source": [
    "data['Heart Issues'].value_counts()"
   ]
  },
  {
   "cell_type": "code",
   "execution_count": 21,
   "id": "c76a8df2-86ba-4160-92b6-1147ea39e757",
   "metadata": {},
   "outputs": [
    {
     "data": {
      "text/plain": [
       "Any Transplants\n",
       "No     2183\n",
       "yes     142\n",
       "Name: count, dtype: int64"
      ]
     },
     "execution_count": 21,
     "metadata": {},
     "output_type": "execute_result"
    }
   ],
   "source": [
    "data['Any Transplants'].value_counts()"
   ]
  },
  {
   "cell_type": "code",
   "execution_count": 22,
   "id": "4e2a5680-af6b-423a-ab43-722c44eac9ce",
   "metadata": {},
   "outputs": [
    {
     "data": {
      "text/plain": [
       "smoker\n",
       "No     1839\n",
       "yes     486\n",
       "Name: count, dtype: int64"
      ]
     },
     "execution_count": 22,
     "metadata": {},
     "output_type": "execute_result"
    }
   ],
   "source": [
    "data['smoker'].value_counts()"
   ]
  },
  {
   "cell_type": "code",
   "execution_count": 23,
   "id": "8378edff-843c-4477-984d-0592f746ee5e",
   "metadata": {},
   "outputs": [
    {
     "data": {
      "text/plain": [
       "Cancer history\n",
       "No     1934\n",
       "Yes     391\n",
       "Name: count, dtype: int64"
      ]
     },
     "execution_count": 23,
     "metadata": {},
     "output_type": "execute_result"
    }
   ],
   "source": [
    "data['Cancer history'].value_counts()"
   ]
  },
  {
   "cell_type": "code",
   "execution_count": 24,
   "id": "b12e10d1-2d14-4884-8797-ee4581101018",
   "metadata": {},
   "outputs": [
    {
     "data": {
      "text/html": [
       "<div>\n",
       "<style scoped>\n",
       "    .dataframe tbody tr th:only-of-type {\n",
       "        vertical-align: middle;\n",
       "    }\n",
       "\n",
       "    .dataframe tbody tr th {\n",
       "        vertical-align: top;\n",
       "    }\n",
       "\n",
       "    .dataframe thead th {\n",
       "        text-align: right;\n",
       "    }\n",
       "</style>\n",
       "<table border=\"1\" class=\"dataframe\">\n",
       "  <thead>\n",
       "    <tr style=\"text-align: right;\">\n",
       "      <th></th>\n",
       "      <th>Customer ID</th>\n",
       "      <th>year</th>\n",
       "      <th>month</th>\n",
       "      <th>date</th>\n",
       "      <th>children</th>\n",
       "      <th>charges</th>\n",
       "      <th>Hospital tier</th>\n",
       "      <th>City tier</th>\n",
       "      <th>State ID</th>\n",
       "      <th>BMI</th>\n",
       "      <th>HBA1C</th>\n",
       "      <th>Heart Issues</th>\n",
       "      <th>Any Transplants</th>\n",
       "      <th>Cancer history</th>\n",
       "      <th>NumberOfMajorSurgeries</th>\n",
       "      <th>smoker</th>\n",
       "      <th>name</th>\n",
       "    </tr>\n",
       "  </thead>\n",
       "  <tbody>\n",
       "    <tr>\n",
       "      <th>0</th>\n",
       "      <td>Id2335</td>\n",
       "      <td>1992</td>\n",
       "      <td>Jul</td>\n",
       "      <td>9</td>\n",
       "      <td>0</td>\n",
       "      <td>563.84</td>\n",
       "      <td>tier - 2</td>\n",
       "      <td>tier - 3</td>\n",
       "      <td>R1013</td>\n",
       "      <td>17.58</td>\n",
       "      <td>4.51</td>\n",
       "      <td>No</td>\n",
       "      <td>No</td>\n",
       "      <td>No</td>\n",
       "      <td>1</td>\n",
       "      <td>No</td>\n",
       "      <td>German, Mr.  Aaron K</td>\n",
       "    </tr>\n",
       "    <tr>\n",
       "      <th>1</th>\n",
       "      <td>Id2334</td>\n",
       "      <td>1992</td>\n",
       "      <td>Nov</td>\n",
       "      <td>30</td>\n",
       "      <td>0</td>\n",
       "      <td>570.62</td>\n",
       "      <td>tier - 2</td>\n",
       "      <td>tier - 1</td>\n",
       "      <td>R1013</td>\n",
       "      <td>17.60</td>\n",
       "      <td>4.39</td>\n",
       "      <td>No</td>\n",
       "      <td>No</td>\n",
       "      <td>No</td>\n",
       "      <td>1</td>\n",
       "      <td>No</td>\n",
       "      <td>Rosendahl, Mr.  Evan P</td>\n",
       "    </tr>\n",
       "    <tr>\n",
       "      <th>2</th>\n",
       "      <td>Id2333</td>\n",
       "      <td>1993</td>\n",
       "      <td>Jun</td>\n",
       "      <td>30</td>\n",
       "      <td>0</td>\n",
       "      <td>600.00</td>\n",
       "      <td>tier - 2</td>\n",
       "      <td>tier - 1</td>\n",
       "      <td>R1013</td>\n",
       "      <td>16.47</td>\n",
       "      <td>6.35</td>\n",
       "      <td>No</td>\n",
       "      <td>No</td>\n",
       "      <td>Yes</td>\n",
       "      <td>1</td>\n",
       "      <td>No</td>\n",
       "      <td>Albano, Ms.  Julie</td>\n",
       "    </tr>\n",
       "  </tbody>\n",
       "</table>\n",
       "</div>"
      ],
      "text/plain": [
       "  Customer ID  year month  date  children  charges Hospital tier City tier  \\\n",
       "0      Id2335  1992   Jul     9         0   563.84      tier - 2  tier - 3   \n",
       "1      Id2334  1992   Nov    30         0   570.62      tier - 2  tier - 1   \n",
       "2      Id2333  1993   Jun    30         0   600.00      tier - 2  tier - 1   \n",
       "\n",
       "  State ID    BMI  HBA1C Heart Issues Any Transplants Cancer history  \\\n",
       "0    R1013  17.58   4.51           No              No             No   \n",
       "1    R1013  17.60   4.39           No              No             No   \n",
       "2    R1013  16.47   6.35           No              No            Yes   \n",
       "\n",
       "  NumberOfMajorSurgeries smoker                    name  \n",
       "0                      1     No    German, Mr.  Aaron K  \n",
       "1                      1     No  Rosendahl, Mr.  Evan P  \n",
       "2                      1     No      Albano, Ms.  Julie  "
      ]
     },
     "execution_count": 24,
     "metadata": {},
     "output_type": "execute_result"
    }
   ],
   "source": [
    "data.head(3)"
   ]
  },
  {
   "cell_type": "code",
   "execution_count": 25,
   "id": "dcebaa64-dfdb-46db-b838-017fd5bdadad",
   "metadata": {},
   "outputs": [],
   "source": [
    "from sklearn.preprocessing import LabelEncoder\n",
    "le= LabelEncoder()"
   ]
  },
  {
   "cell_type": "code",
   "execution_count": 26,
   "id": "068438ec-7239-4b9c-8a3d-de430df4e85f",
   "metadata": {},
   "outputs": [],
   "source": [
    "data['Heart Issues']=le.fit_transform(data['Heart Issues'])\n",
    "data['Any Transplants']=le.fit_transform(data['Any Transplants'])\n",
    "data['smoker']=le.fit_transform(data['smoker'])\n",
    "data['Cancer history']=le.fit_transform(data['Cancer history'])"
   ]
  },
  {
   "cell_type": "code",
   "execution_count": 27,
   "id": "9188e058-d14d-4e36-a7b1-8c1a04325d01",
   "metadata": {},
   "outputs": [
    {
     "data": {
      "text/html": [
       "<div>\n",
       "<style scoped>\n",
       "    .dataframe tbody tr th:only-of-type {\n",
       "        vertical-align: middle;\n",
       "    }\n",
       "\n",
       "    .dataframe tbody tr th {\n",
       "        vertical-align: top;\n",
       "    }\n",
       "\n",
       "    .dataframe thead th {\n",
       "        text-align: right;\n",
       "    }\n",
       "</style>\n",
       "<table border=\"1\" class=\"dataframe\">\n",
       "  <thead>\n",
       "    <tr style=\"text-align: right;\">\n",
       "      <th></th>\n",
       "      <th>Customer ID</th>\n",
       "      <th>year</th>\n",
       "      <th>month</th>\n",
       "      <th>date</th>\n",
       "      <th>children</th>\n",
       "      <th>charges</th>\n",
       "      <th>Hospital tier</th>\n",
       "      <th>City tier</th>\n",
       "      <th>State ID</th>\n",
       "      <th>BMI</th>\n",
       "      <th>HBA1C</th>\n",
       "      <th>Heart Issues</th>\n",
       "      <th>Any Transplants</th>\n",
       "      <th>Cancer history</th>\n",
       "      <th>NumberOfMajorSurgeries</th>\n",
       "      <th>smoker</th>\n",
       "      <th>name</th>\n",
       "    </tr>\n",
       "  </thead>\n",
       "  <tbody>\n",
       "    <tr>\n",
       "      <th>0</th>\n",
       "      <td>Id2335</td>\n",
       "      <td>1992</td>\n",
       "      <td>Jul</td>\n",
       "      <td>9</td>\n",
       "      <td>0</td>\n",
       "      <td>563.84</td>\n",
       "      <td>tier - 2</td>\n",
       "      <td>tier - 3</td>\n",
       "      <td>R1013</td>\n",
       "      <td>17.58</td>\n",
       "      <td>4.51</td>\n",
       "      <td>0</td>\n",
       "      <td>0</td>\n",
       "      <td>0</td>\n",
       "      <td>1</td>\n",
       "      <td>0</td>\n",
       "      <td>German, Mr.  Aaron K</td>\n",
       "    </tr>\n",
       "    <tr>\n",
       "      <th>1</th>\n",
       "      <td>Id2334</td>\n",
       "      <td>1992</td>\n",
       "      <td>Nov</td>\n",
       "      <td>30</td>\n",
       "      <td>0</td>\n",
       "      <td>570.62</td>\n",
       "      <td>tier - 2</td>\n",
       "      <td>tier - 1</td>\n",
       "      <td>R1013</td>\n",
       "      <td>17.60</td>\n",
       "      <td>4.39</td>\n",
       "      <td>0</td>\n",
       "      <td>0</td>\n",
       "      <td>0</td>\n",
       "      <td>1</td>\n",
       "      <td>0</td>\n",
       "      <td>Rosendahl, Mr.  Evan P</td>\n",
       "    </tr>\n",
       "  </tbody>\n",
       "</table>\n",
       "</div>"
      ],
      "text/plain": [
       "  Customer ID  year month  date  children  charges Hospital tier City tier  \\\n",
       "0      Id2335  1992   Jul     9         0   563.84      tier - 2  tier - 3   \n",
       "1      Id2334  1992   Nov    30         0   570.62      tier - 2  tier - 1   \n",
       "\n",
       "  State ID    BMI  HBA1C  Heart Issues  Any Transplants  Cancer history  \\\n",
       "0    R1013  17.58   4.51             0                0               0   \n",
       "1    R1013  17.60   4.39             0                0               0   \n",
       "\n",
       "  NumberOfMajorSurgeries  smoker                    name  \n",
       "0                      1       0    German, Mr.  Aaron K  \n",
       "1                      1       0  Rosendahl, Mr.  Evan P  "
      ]
     },
     "execution_count": 27,
     "metadata": {},
     "output_type": "execute_result"
    }
   ],
   "source": [
    "data.head(2)"
   ]
  },
  {
   "cell_type": "code",
   "execution_count": 28,
   "id": "226467c6-5928-4d4d-bff4-113852dc536c",
   "metadata": {},
   "outputs": [],
   "source": [
    "data['Hospital tier']=data['Hospital tier'].str.replace('tier - ', '').astype(int)"
   ]
  },
  {
   "cell_type": "code",
   "execution_count": 29,
   "id": "f581c051-0c9e-4848-9fbc-9138aecce71e",
   "metadata": {},
   "outputs": [],
   "source": [
    "data['City tier']=data['City tier'].str.replace('tier - ', '').astype(int)"
   ]
  },
  {
   "cell_type": "code",
   "execution_count": 30,
   "id": "1726403a-c2e2-466f-a5e2-d42b357c297f",
   "metadata": {},
   "outputs": [
    {
     "data": {
      "text/html": [
       "<div>\n",
       "<style scoped>\n",
       "    .dataframe tbody tr th:only-of-type {\n",
       "        vertical-align: middle;\n",
       "    }\n",
       "\n",
       "    .dataframe tbody tr th {\n",
       "        vertical-align: top;\n",
       "    }\n",
       "\n",
       "    .dataframe thead th {\n",
       "        text-align: right;\n",
       "    }\n",
       "</style>\n",
       "<table border=\"1\" class=\"dataframe\">\n",
       "  <thead>\n",
       "    <tr style=\"text-align: right;\">\n",
       "      <th></th>\n",
       "      <th>Customer ID</th>\n",
       "      <th>year</th>\n",
       "      <th>month</th>\n",
       "      <th>date</th>\n",
       "      <th>children</th>\n",
       "      <th>charges</th>\n",
       "      <th>Hospital tier</th>\n",
       "      <th>City tier</th>\n",
       "      <th>State ID</th>\n",
       "      <th>BMI</th>\n",
       "      <th>HBA1C</th>\n",
       "      <th>Heart Issues</th>\n",
       "      <th>Any Transplants</th>\n",
       "      <th>Cancer history</th>\n",
       "      <th>NumberOfMajorSurgeries</th>\n",
       "      <th>smoker</th>\n",
       "      <th>name</th>\n",
       "    </tr>\n",
       "  </thead>\n",
       "  <tbody>\n",
       "    <tr>\n",
       "      <th>0</th>\n",
       "      <td>Id2335</td>\n",
       "      <td>1992</td>\n",
       "      <td>Jul</td>\n",
       "      <td>9</td>\n",
       "      <td>0</td>\n",
       "      <td>563.84</td>\n",
       "      <td>2</td>\n",
       "      <td>3</td>\n",
       "      <td>R1013</td>\n",
       "      <td>17.58</td>\n",
       "      <td>4.51</td>\n",
       "      <td>0</td>\n",
       "      <td>0</td>\n",
       "      <td>0</td>\n",
       "      <td>1</td>\n",
       "      <td>0</td>\n",
       "      <td>German, Mr.  Aaron K</td>\n",
       "    </tr>\n",
       "    <tr>\n",
       "      <th>1</th>\n",
       "      <td>Id2334</td>\n",
       "      <td>1992</td>\n",
       "      <td>Nov</td>\n",
       "      <td>30</td>\n",
       "      <td>0</td>\n",
       "      <td>570.62</td>\n",
       "      <td>2</td>\n",
       "      <td>1</td>\n",
       "      <td>R1013</td>\n",
       "      <td>17.60</td>\n",
       "      <td>4.39</td>\n",
       "      <td>0</td>\n",
       "      <td>0</td>\n",
       "      <td>0</td>\n",
       "      <td>1</td>\n",
       "      <td>0</td>\n",
       "      <td>Rosendahl, Mr.  Evan P</td>\n",
       "    </tr>\n",
       "  </tbody>\n",
       "</table>\n",
       "</div>"
      ],
      "text/plain": [
       "  Customer ID  year month  date  children  charges  Hospital tier  City tier  \\\n",
       "0      Id2335  1992   Jul     9         0   563.84              2          3   \n",
       "1      Id2334  1992   Nov    30         0   570.62              2          1   \n",
       "\n",
       "  State ID    BMI  HBA1C  Heart Issues  Any Transplants  Cancer history  \\\n",
       "0    R1013  17.58   4.51             0                0               0   \n",
       "1    R1013  17.60   4.39             0                0               0   \n",
       "\n",
       "  NumberOfMajorSurgeries  smoker                    name  \n",
       "0                      1       0    German, Mr.  Aaron K  \n",
       "1                      1       0  Rosendahl, Mr.  Evan P  "
      ]
     },
     "execution_count": 30,
     "metadata": {},
     "output_type": "execute_result"
    }
   ],
   "source": [
    "data.head(2)"
   ]
  },
  {
   "cell_type": "markdown",
   "id": "3ec606d7-842c-4af6-aa62-7950556f947c",
   "metadata": {},
   "source": [
    "### 5. The dataset has State ID, which has around 16 states. All states are not represented in equal proportions in the data. Creating dummy variables for all regions may also result in too manyinsignificant predictors. Nevertheless, only R1011, R1012, and R1013 are worth investigating further. Design a suitable strategy to create dummy variables with these restraints."
   ]
  },
  {
   "cell_type": "code",
   "execution_count": 32,
   "id": "a08e7bc5-c2a2-4d42-a37d-f5bd5ebacdc3",
   "metadata": {},
   "outputs": [
    {
     "data": {
      "text/plain": [
       "array(['R1013', 'R1012', 'R1011', 'R1015', 'R1019', 'R1016', 'R1018',\n",
       "       'R1025', 'R1024', 'R1023', 'R1014', 'R1021', 'R1017', 'R1020',\n",
       "       'R1026', 'R1022'], dtype=object)"
      ]
     },
     "execution_count": 32,
     "metadata": {},
     "output_type": "execute_result"
    }
   ],
   "source": [
    "data['State ID'].unique()"
   ]
  },
  {
   "cell_type": "code",
   "execution_count": 33,
   "id": "6bb80cba-598a-4dd8-b056-0bb2625667f0",
   "metadata": {},
   "outputs": [
    {
     "data": {
      "text/plain": [
       "State ID\n",
       "R1013    609\n",
       "R1011    574\n",
       "R1012    572\n",
       "R1024    159\n",
       "R1026     84\n",
       "R1021     70\n",
       "R1016     64\n",
       "R1025     40\n",
       "R1023     38\n",
       "R1017     36\n",
       "R1019     26\n",
       "R1022     14\n",
       "R1014     13\n",
       "R1015     11\n",
       "R1018      9\n",
       "R1020      6\n",
       "Name: count, dtype: int64"
      ]
     },
     "execution_count": 33,
     "metadata": {},
     "output_type": "execute_result"
    }
   ],
   "source": [
    "data['State ID'].value_counts()"
   ]
  },
  {
   "cell_type": "code",
   "execution_count": 34,
   "id": "e1df56e1-ae9d-4827-9879-1327a8f7a32b",
   "metadata": {},
   "outputs": [],
   "source": [
    "data['state_group']= np.where((data['State ID']=='R1011') | (data['State ID']== 'R1012') | (data['State ID']== 'R1013'), data['State ID'], 'other')"
   ]
  },
  {
   "cell_type": "code",
   "execution_count": 35,
   "id": "92d82f16-d66c-427a-bad1-7c476e8efbb4",
   "metadata": {},
   "outputs": [
    {
     "data": {
      "text/html": [
       "<div>\n",
       "<style scoped>\n",
       "    .dataframe tbody tr th:only-of-type {\n",
       "        vertical-align: middle;\n",
       "    }\n",
       "\n",
       "    .dataframe tbody tr th {\n",
       "        vertical-align: top;\n",
       "    }\n",
       "\n",
       "    .dataframe thead th {\n",
       "        text-align: right;\n",
       "    }\n",
       "</style>\n",
       "<table border=\"1\" class=\"dataframe\">\n",
       "  <thead>\n",
       "    <tr style=\"text-align: right;\">\n",
       "      <th></th>\n",
       "      <th>Customer ID</th>\n",
       "      <th>year</th>\n",
       "      <th>month</th>\n",
       "      <th>date</th>\n",
       "      <th>children</th>\n",
       "      <th>charges</th>\n",
       "      <th>Hospital tier</th>\n",
       "      <th>City tier</th>\n",
       "      <th>State ID</th>\n",
       "      <th>BMI</th>\n",
       "      <th>HBA1C</th>\n",
       "      <th>Heart Issues</th>\n",
       "      <th>Any Transplants</th>\n",
       "      <th>Cancer history</th>\n",
       "      <th>NumberOfMajorSurgeries</th>\n",
       "      <th>smoker</th>\n",
       "      <th>name</th>\n",
       "      <th>state_group</th>\n",
       "    </tr>\n",
       "  </thead>\n",
       "  <tbody>\n",
       "    <tr>\n",
       "      <th>0</th>\n",
       "      <td>Id2335</td>\n",
       "      <td>1992</td>\n",
       "      <td>Jul</td>\n",
       "      <td>9</td>\n",
       "      <td>0</td>\n",
       "      <td>563.84</td>\n",
       "      <td>2</td>\n",
       "      <td>3</td>\n",
       "      <td>R1013</td>\n",
       "      <td>17.58</td>\n",
       "      <td>4.51</td>\n",
       "      <td>0</td>\n",
       "      <td>0</td>\n",
       "      <td>0</td>\n",
       "      <td>1</td>\n",
       "      <td>0</td>\n",
       "      <td>German, Mr.  Aaron K</td>\n",
       "      <td>R1013</td>\n",
       "    </tr>\n",
       "    <tr>\n",
       "      <th>1</th>\n",
       "      <td>Id2334</td>\n",
       "      <td>1992</td>\n",
       "      <td>Nov</td>\n",
       "      <td>30</td>\n",
       "      <td>0</td>\n",
       "      <td>570.62</td>\n",
       "      <td>2</td>\n",
       "      <td>1</td>\n",
       "      <td>R1013</td>\n",
       "      <td>17.60</td>\n",
       "      <td>4.39</td>\n",
       "      <td>0</td>\n",
       "      <td>0</td>\n",
       "      <td>0</td>\n",
       "      <td>1</td>\n",
       "      <td>0</td>\n",
       "      <td>Rosendahl, Mr.  Evan P</td>\n",
       "      <td>R1013</td>\n",
       "    </tr>\n",
       "  </tbody>\n",
       "</table>\n",
       "</div>"
      ],
      "text/plain": [
       "  Customer ID  year month  date  children  charges  Hospital tier  City tier  \\\n",
       "0      Id2335  1992   Jul     9         0   563.84              2          3   \n",
       "1      Id2334  1992   Nov    30         0   570.62              2          1   \n",
       "\n",
       "  State ID    BMI  HBA1C  Heart Issues  Any Transplants  Cancer history  \\\n",
       "0    R1013  17.58   4.51             0                0               0   \n",
       "1    R1013  17.60   4.39             0                0               0   \n",
       "\n",
       "  NumberOfMajorSurgeries  smoker                    name state_group  \n",
       "0                      1       0    German, Mr.  Aaron K       R1013  \n",
       "1                      1       0  Rosendahl, Mr.  Evan P       R1013  "
      ]
     },
     "execution_count": 35,
     "metadata": {},
     "output_type": "execute_result"
    }
   ],
   "source": [
    "data.head(2)"
   ]
  },
  {
   "cell_type": "code",
   "execution_count": 36,
   "id": "8b72f54f-3701-4459-92c5-341d80521089",
   "metadata": {},
   "outputs": [],
   "source": [
    "state_dummies= pd.get_dummies(data['state_group'],prefix='state')"
   ]
  },
  {
   "cell_type": "code",
   "execution_count": 37,
   "id": "f5e9f428-7bf6-44b0-b8a4-9b397f19e691",
   "metadata": {},
   "outputs": [],
   "source": [
    "df= pd.concat([data,state_dummies], axis=1)"
   ]
  },
  {
   "cell_type": "code",
   "execution_count": 38,
   "id": "6cd6c2a1-2a8b-427c-9d95-2ad7c14a2056",
   "metadata": {},
   "outputs": [
    {
     "data": {
      "text/html": [
       "<div>\n",
       "<style scoped>\n",
       "    .dataframe tbody tr th:only-of-type {\n",
       "        vertical-align: middle;\n",
       "    }\n",
       "\n",
       "    .dataframe tbody tr th {\n",
       "        vertical-align: top;\n",
       "    }\n",
       "\n",
       "    .dataframe thead th {\n",
       "        text-align: right;\n",
       "    }\n",
       "</style>\n",
       "<table border=\"1\" class=\"dataframe\">\n",
       "  <thead>\n",
       "    <tr style=\"text-align: right;\">\n",
       "      <th></th>\n",
       "      <th>Customer ID</th>\n",
       "      <th>year</th>\n",
       "      <th>month</th>\n",
       "      <th>date</th>\n",
       "      <th>children</th>\n",
       "      <th>charges</th>\n",
       "      <th>Hospital tier</th>\n",
       "      <th>City tier</th>\n",
       "      <th>State ID</th>\n",
       "      <th>BMI</th>\n",
       "      <th>...</th>\n",
       "      <th>Any Transplants</th>\n",
       "      <th>Cancer history</th>\n",
       "      <th>NumberOfMajorSurgeries</th>\n",
       "      <th>smoker</th>\n",
       "      <th>name</th>\n",
       "      <th>state_group</th>\n",
       "      <th>state_R1011</th>\n",
       "      <th>state_R1012</th>\n",
       "      <th>state_R1013</th>\n",
       "      <th>state_other</th>\n",
       "    </tr>\n",
       "  </thead>\n",
       "  <tbody>\n",
       "    <tr>\n",
       "      <th>0</th>\n",
       "      <td>Id2335</td>\n",
       "      <td>1992</td>\n",
       "      <td>Jul</td>\n",
       "      <td>9</td>\n",
       "      <td>0</td>\n",
       "      <td>563.84</td>\n",
       "      <td>2</td>\n",
       "      <td>3</td>\n",
       "      <td>R1013</td>\n",
       "      <td>17.58</td>\n",
       "      <td>...</td>\n",
       "      <td>0</td>\n",
       "      <td>0</td>\n",
       "      <td>1</td>\n",
       "      <td>0</td>\n",
       "      <td>German, Mr.  Aaron K</td>\n",
       "      <td>R1013</td>\n",
       "      <td>False</td>\n",
       "      <td>False</td>\n",
       "      <td>True</td>\n",
       "      <td>False</td>\n",
       "    </tr>\n",
       "    <tr>\n",
       "      <th>1</th>\n",
       "      <td>Id2334</td>\n",
       "      <td>1992</td>\n",
       "      <td>Nov</td>\n",
       "      <td>30</td>\n",
       "      <td>0</td>\n",
       "      <td>570.62</td>\n",
       "      <td>2</td>\n",
       "      <td>1</td>\n",
       "      <td>R1013</td>\n",
       "      <td>17.60</td>\n",
       "      <td>...</td>\n",
       "      <td>0</td>\n",
       "      <td>0</td>\n",
       "      <td>1</td>\n",
       "      <td>0</td>\n",
       "      <td>Rosendahl, Mr.  Evan P</td>\n",
       "      <td>R1013</td>\n",
       "      <td>False</td>\n",
       "      <td>False</td>\n",
       "      <td>True</td>\n",
       "      <td>False</td>\n",
       "    </tr>\n",
       "    <tr>\n",
       "      <th>2</th>\n",
       "      <td>Id2333</td>\n",
       "      <td>1993</td>\n",
       "      <td>Jun</td>\n",
       "      <td>30</td>\n",
       "      <td>0</td>\n",
       "      <td>600.00</td>\n",
       "      <td>2</td>\n",
       "      <td>1</td>\n",
       "      <td>R1013</td>\n",
       "      <td>16.47</td>\n",
       "      <td>...</td>\n",
       "      <td>0</td>\n",
       "      <td>1</td>\n",
       "      <td>1</td>\n",
       "      <td>0</td>\n",
       "      <td>Albano, Ms.  Julie</td>\n",
       "      <td>R1013</td>\n",
       "      <td>False</td>\n",
       "      <td>False</td>\n",
       "      <td>True</td>\n",
       "      <td>False</td>\n",
       "    </tr>\n",
       "    <tr>\n",
       "      <th>3</th>\n",
       "      <td>Id2332</td>\n",
       "      <td>1992</td>\n",
       "      <td>Sep</td>\n",
       "      <td>13</td>\n",
       "      <td>0</td>\n",
       "      <td>604.54</td>\n",
       "      <td>3</td>\n",
       "      <td>3</td>\n",
       "      <td>R1013</td>\n",
       "      <td>17.70</td>\n",
       "      <td>...</td>\n",
       "      <td>0</td>\n",
       "      <td>0</td>\n",
       "      <td>1</td>\n",
       "      <td>0</td>\n",
       "      <td>Riveros Gonzalez, Mr.  Juan D. Sr.</td>\n",
       "      <td>R1013</td>\n",
       "      <td>False</td>\n",
       "      <td>False</td>\n",
       "      <td>True</td>\n",
       "      <td>False</td>\n",
       "    </tr>\n",
       "    <tr>\n",
       "      <th>4</th>\n",
       "      <td>Id2331</td>\n",
       "      <td>1998</td>\n",
       "      <td>Jul</td>\n",
       "      <td>27</td>\n",
       "      <td>0</td>\n",
       "      <td>637.26</td>\n",
       "      <td>3</td>\n",
       "      <td>3</td>\n",
       "      <td>R1013</td>\n",
       "      <td>22.34</td>\n",
       "      <td>...</td>\n",
       "      <td>0</td>\n",
       "      <td>0</td>\n",
       "      <td>1</td>\n",
       "      <td>0</td>\n",
       "      <td>Brietzke, Mr.  Jordan</td>\n",
       "      <td>R1013</td>\n",
       "      <td>False</td>\n",
       "      <td>False</td>\n",
       "      <td>True</td>\n",
       "      <td>False</td>\n",
       "    </tr>\n",
       "  </tbody>\n",
       "</table>\n",
       "<p>5 rows × 22 columns</p>\n",
       "</div>"
      ],
      "text/plain": [
       "  Customer ID  year month  date  children  charges  Hospital tier  City tier  \\\n",
       "0      Id2335  1992   Jul     9         0   563.84              2          3   \n",
       "1      Id2334  1992   Nov    30         0   570.62              2          1   \n",
       "2      Id2333  1993   Jun    30         0   600.00              2          1   \n",
       "3      Id2332  1992   Sep    13         0   604.54              3          3   \n",
       "4      Id2331  1998   Jul    27         0   637.26              3          3   \n",
       "\n",
       "  State ID    BMI  ...  Any Transplants  Cancer history  \\\n",
       "0    R1013  17.58  ...                0               0   \n",
       "1    R1013  17.60  ...                0               0   \n",
       "2    R1013  16.47  ...                0               1   \n",
       "3    R1013  17.70  ...                0               0   \n",
       "4    R1013  22.34  ...                0               0   \n",
       "\n",
       "   NumberOfMajorSurgeries  smoker                                name  \\\n",
       "0                       1       0                German, Mr.  Aaron K   \n",
       "1                       1       0              Rosendahl, Mr.  Evan P   \n",
       "2                       1       0                  Albano, Ms.  Julie   \n",
       "3                       1       0  Riveros Gonzalez, Mr.  Juan D. Sr.   \n",
       "4                       1       0               Brietzke, Mr.  Jordan   \n",
       "\n",
       "   state_group state_R1011 state_R1012  state_R1013  state_other  \n",
       "0        R1013       False       False         True        False  \n",
       "1        R1013       False       False         True        False  \n",
       "2        R1013       False       False         True        False  \n",
       "3        R1013       False       False         True        False  \n",
       "4        R1013       False       False         True        False  \n",
       "\n",
       "[5 rows x 22 columns]"
      ]
     },
     "execution_count": 38,
     "metadata": {},
     "output_type": "execute_result"
    }
   ],
   "source": [
    "df.head()"
   ]
  },
  {
   "cell_type": "code",
   "execution_count": 39,
   "id": "a3960415-395d-4d0e-b18e-ca3afe753708",
   "metadata": {},
   "outputs": [
    {
     "data": {
      "text/plain": [
       "(1755, 18)"
      ]
     },
     "execution_count": 39,
     "metadata": {},
     "output_type": "execute_result"
    }
   ],
   "source": [
    "data=data[data['State ID'].isin(['R1011','R1012','R1013'])]\n",
    "data.shape"
   ]
  },
  {
   "cell_type": "code",
   "execution_count": 40,
   "id": "4ebeb055-5a2c-4fbf-aa7d-a7584c335ebb",
   "metadata": {},
   "outputs": [
    {
     "data": {
      "text/plain": [
       "array([2, 1, 0])"
      ]
     },
     "execution_count": 40,
     "metadata": {},
     "output_type": "execute_result"
    }
   ],
   "source": [
    "data['State ID']=le.fit_transform(data['State ID'])\n",
    "data['State ID'].unique()"
   ]
  },
  {
   "cell_type": "code",
   "execution_count": 41,
   "id": "1d1ccdde-5e85-43c5-873e-8cb1602c36d1",
   "metadata": {},
   "outputs": [
    {
     "data": {
      "text/plain": [
       "State ID\n",
       "2    609\n",
       "0    574\n",
       "1    572\n",
       "Name: count, dtype: int64"
      ]
     },
     "execution_count": 41,
     "metadata": {},
     "output_type": "execute_result"
    }
   ],
   "source": [
    "data['State ID'].value_counts()"
   ]
  },
  {
   "cell_type": "code",
   "execution_count": 42,
   "id": "242f4ef2-95f1-49e5-a7b8-70462d60cbea",
   "metadata": {},
   "outputs": [],
   "source": [
    "data['State ID'].replace('R1011',1,inplace=True)\n",
    "data['State ID'].replace('R1012',2,inplace=True)\n",
    "data['State ID'].replace('R1013',3,inplace=True)\n",
    "data['State ID'].replace('other',inplace=True)"
   ]
  },
  {
   "cell_type": "code",
   "execution_count": 43,
   "id": "df10da79-6a1d-41fd-afd4-06c73fbd4a0a",
   "metadata": {},
   "outputs": [
    {
     "data": {
      "text/html": [
       "<div>\n",
       "<style scoped>\n",
       "    .dataframe tbody tr th:only-of-type {\n",
       "        vertical-align: middle;\n",
       "    }\n",
       "\n",
       "    .dataframe tbody tr th {\n",
       "        vertical-align: top;\n",
       "    }\n",
       "\n",
       "    .dataframe thead th {\n",
       "        text-align: right;\n",
       "    }\n",
       "</style>\n",
       "<table border=\"1\" class=\"dataframe\">\n",
       "  <thead>\n",
       "    <tr style=\"text-align: right;\">\n",
       "      <th></th>\n",
       "      <th>Customer ID</th>\n",
       "      <th>year</th>\n",
       "      <th>month</th>\n",
       "      <th>date</th>\n",
       "      <th>children</th>\n",
       "      <th>charges</th>\n",
       "      <th>Hospital tier</th>\n",
       "      <th>City tier</th>\n",
       "      <th>State ID</th>\n",
       "      <th>BMI</th>\n",
       "      <th>HBA1C</th>\n",
       "      <th>Heart Issues</th>\n",
       "      <th>Any Transplants</th>\n",
       "      <th>Cancer history</th>\n",
       "      <th>NumberOfMajorSurgeries</th>\n",
       "      <th>smoker</th>\n",
       "      <th>name</th>\n",
       "      <th>state_group</th>\n",
       "    </tr>\n",
       "  </thead>\n",
       "  <tbody>\n",
       "    <tr>\n",
       "      <th>0</th>\n",
       "      <td>Id2335</td>\n",
       "      <td>1992</td>\n",
       "      <td>Jul</td>\n",
       "      <td>9</td>\n",
       "      <td>0</td>\n",
       "      <td>563.84</td>\n",
       "      <td>2</td>\n",
       "      <td>3</td>\n",
       "      <td>2</td>\n",
       "      <td>17.58</td>\n",
       "      <td>4.51</td>\n",
       "      <td>0</td>\n",
       "      <td>0</td>\n",
       "      <td>0</td>\n",
       "      <td>1</td>\n",
       "      <td>0</td>\n",
       "      <td>German, Mr.  Aaron K</td>\n",
       "      <td>R1013</td>\n",
       "    </tr>\n",
       "    <tr>\n",
       "      <th>1</th>\n",
       "      <td>Id2334</td>\n",
       "      <td>1992</td>\n",
       "      <td>Nov</td>\n",
       "      <td>30</td>\n",
       "      <td>0</td>\n",
       "      <td>570.62</td>\n",
       "      <td>2</td>\n",
       "      <td>1</td>\n",
       "      <td>2</td>\n",
       "      <td>17.60</td>\n",
       "      <td>4.39</td>\n",
       "      <td>0</td>\n",
       "      <td>0</td>\n",
       "      <td>0</td>\n",
       "      <td>1</td>\n",
       "      <td>0</td>\n",
       "      <td>Rosendahl, Mr.  Evan P</td>\n",
       "      <td>R1013</td>\n",
       "    </tr>\n",
       "    <tr>\n",
       "      <th>2</th>\n",
       "      <td>Id2333</td>\n",
       "      <td>1993</td>\n",
       "      <td>Jun</td>\n",
       "      <td>30</td>\n",
       "      <td>0</td>\n",
       "      <td>600.00</td>\n",
       "      <td>2</td>\n",
       "      <td>1</td>\n",
       "      <td>2</td>\n",
       "      <td>16.47</td>\n",
       "      <td>6.35</td>\n",
       "      <td>0</td>\n",
       "      <td>0</td>\n",
       "      <td>1</td>\n",
       "      <td>1</td>\n",
       "      <td>0</td>\n",
       "      <td>Albano, Ms.  Julie</td>\n",
       "      <td>R1013</td>\n",
       "    </tr>\n",
       "    <tr>\n",
       "      <th>3</th>\n",
       "      <td>Id2332</td>\n",
       "      <td>1992</td>\n",
       "      <td>Sep</td>\n",
       "      <td>13</td>\n",
       "      <td>0</td>\n",
       "      <td>604.54</td>\n",
       "      <td>3</td>\n",
       "      <td>3</td>\n",
       "      <td>2</td>\n",
       "      <td>17.70</td>\n",
       "      <td>6.28</td>\n",
       "      <td>0</td>\n",
       "      <td>0</td>\n",
       "      <td>0</td>\n",
       "      <td>1</td>\n",
       "      <td>0</td>\n",
       "      <td>Riveros Gonzalez, Mr.  Juan D. Sr.</td>\n",
       "      <td>R1013</td>\n",
       "    </tr>\n",
       "    <tr>\n",
       "      <th>4</th>\n",
       "      <td>Id2331</td>\n",
       "      <td>1998</td>\n",
       "      <td>Jul</td>\n",
       "      <td>27</td>\n",
       "      <td>0</td>\n",
       "      <td>637.26</td>\n",
       "      <td>3</td>\n",
       "      <td>3</td>\n",
       "      <td>2</td>\n",
       "      <td>22.34</td>\n",
       "      <td>5.57</td>\n",
       "      <td>0</td>\n",
       "      <td>0</td>\n",
       "      <td>0</td>\n",
       "      <td>1</td>\n",
       "      <td>0</td>\n",
       "      <td>Brietzke, Mr.  Jordan</td>\n",
       "      <td>R1013</td>\n",
       "    </tr>\n",
       "  </tbody>\n",
       "</table>\n",
       "</div>"
      ],
      "text/plain": [
       "  Customer ID  year month  date  children  charges  Hospital tier  City tier  \\\n",
       "0      Id2335  1992   Jul     9         0   563.84              2          3   \n",
       "1      Id2334  1992   Nov    30         0   570.62              2          1   \n",
       "2      Id2333  1993   Jun    30         0   600.00              2          1   \n",
       "3      Id2332  1992   Sep    13         0   604.54              3          3   \n",
       "4      Id2331  1998   Jul    27         0   637.26              3          3   \n",
       "\n",
       "   State ID    BMI  HBA1C  Heart Issues  Any Transplants  Cancer history  \\\n",
       "0         2  17.58   4.51             0                0               0   \n",
       "1         2  17.60   4.39             0                0               0   \n",
       "2         2  16.47   6.35             0                0               1   \n",
       "3         2  17.70   6.28             0                0               0   \n",
       "4         2  22.34   5.57             0                0               0   \n",
       "\n",
       "  NumberOfMajorSurgeries  smoker                                name  \\\n",
       "0                      1       0                German, Mr.  Aaron K   \n",
       "1                      1       0              Rosendahl, Mr.  Evan P   \n",
       "2                      1       0                  Albano, Ms.  Julie   \n",
       "3                      1       0  Riveros Gonzalez, Mr.  Juan D. Sr.   \n",
       "4                      1       0               Brietzke, Mr.  Jordan   \n",
       "\n",
       "  state_group  \n",
       "0       R1013  \n",
       "1       R1013  \n",
       "2       R1013  \n",
       "3       R1013  \n",
       "4       R1013  "
      ]
     },
     "execution_count": 43,
     "metadata": {},
     "output_type": "execute_result"
    }
   ],
   "source": [
    "data.head()"
   ]
  },
  {
   "cell_type": "markdown",
   "id": "71498257-3476-43d6-82b5-6886afa72d1a",
   "metadata": {},
   "source": [
    "### 6. The variable NumberOfMajorSurgeries also appears to have string values. Apply a suitable method to clean up this variable."
   ]
  },
  {
   "cell_type": "code",
   "execution_count": 45,
   "id": "d59284ba-1150-46cd-9499-44db6f76843f",
   "metadata": {},
   "outputs": [
    {
     "data": {
      "text/plain": [
       "array(['1', 'No major surgery', '2', '3'], dtype=object)"
      ]
     },
     "execution_count": 45,
     "metadata": {},
     "output_type": "execute_result"
    }
   ],
   "source": [
    "data['NumberOfMajorSurgeries'].unique()"
   ]
  },
  {
   "cell_type": "code",
   "execution_count": 46,
   "id": "6b26270c-3146-40e5-9b45-4976b17c1759",
   "metadata": {},
   "outputs": [],
   "source": [
    "data['NumberOfMajorSurgeries'].replace('No major surgery',0,inplace=True)"
   ]
  },
  {
   "cell_type": "code",
   "execution_count": 47,
   "id": "26df0277-8999-4508-bef1-49ee354fb31c",
   "metadata": {},
   "outputs": [
    {
     "data": {
      "text/plain": [
       "array(['1', 0, '2', '3'], dtype=object)"
      ]
     },
     "execution_count": 47,
     "metadata": {},
     "output_type": "execute_result"
    }
   ],
   "source": [
    "data['NumberOfMajorSurgeries'].unique()"
   ]
  },
  {
   "cell_type": "markdown",
   "id": "5cbd85cd-73dc-4d92-90f7-c556b998a036",
   "metadata": {},
   "source": [
    "### 7. Age appears to be a significant factor in this analysis. Calculate the patients' ages based on their dates of birth."
   ]
  },
  {
   "cell_type": "code",
   "execution_count": 48,
   "id": "159efa82-9f9f-40c5-91cb-51fe05d7f3bd",
   "metadata": {},
   "outputs": [],
   "source": [
    "monthsdic= {'Jan':1,'Feb':2, 'Mar':3,'Apr':4,'May':5,'Jun':6, 'Jul':7, 'Aug':8, 'Sep':9, 'Oct':10, 'Nov':11, 'Dec':12}"
   ]
  },
  {
   "cell_type": "code",
   "execution_count": 49,
   "id": "c916709c-7016-419b-a893-8dacd3c66843",
   "metadata": {},
   "outputs": [],
   "source": [
    "data['month']=data['month'].map(monthsdic)"
   ]
  },
  {
   "cell_type": "code",
   "execution_count": 50,
   "id": "b0dd7d8a-9ed4-40b0-b1de-add5de1bf2d5",
   "metadata": {},
   "outputs": [
    {
     "data": {
      "text/html": [
       "<div>\n",
       "<style scoped>\n",
       "    .dataframe tbody tr th:only-of-type {\n",
       "        vertical-align: middle;\n",
       "    }\n",
       "\n",
       "    .dataframe tbody tr th {\n",
       "        vertical-align: top;\n",
       "    }\n",
       "\n",
       "    .dataframe thead th {\n",
       "        text-align: right;\n",
       "    }\n",
       "</style>\n",
       "<table border=\"1\" class=\"dataframe\">\n",
       "  <thead>\n",
       "    <tr style=\"text-align: right;\">\n",
       "      <th></th>\n",
       "      <th>Customer ID</th>\n",
       "      <th>year</th>\n",
       "      <th>month</th>\n",
       "      <th>date</th>\n",
       "      <th>children</th>\n",
       "      <th>charges</th>\n",
       "      <th>Hospital tier</th>\n",
       "      <th>City tier</th>\n",
       "      <th>State ID</th>\n",
       "      <th>BMI</th>\n",
       "      <th>HBA1C</th>\n",
       "      <th>Heart Issues</th>\n",
       "      <th>Any Transplants</th>\n",
       "      <th>Cancer history</th>\n",
       "      <th>NumberOfMajorSurgeries</th>\n",
       "      <th>smoker</th>\n",
       "      <th>name</th>\n",
       "      <th>state_group</th>\n",
       "    </tr>\n",
       "  </thead>\n",
       "  <tbody>\n",
       "    <tr>\n",
       "      <th>0</th>\n",
       "      <td>Id2335</td>\n",
       "      <td>1992</td>\n",
       "      <td>7</td>\n",
       "      <td>9</td>\n",
       "      <td>0</td>\n",
       "      <td>563.84</td>\n",
       "      <td>2</td>\n",
       "      <td>3</td>\n",
       "      <td>2</td>\n",
       "      <td>17.58</td>\n",
       "      <td>4.51</td>\n",
       "      <td>0</td>\n",
       "      <td>0</td>\n",
       "      <td>0</td>\n",
       "      <td>1</td>\n",
       "      <td>0</td>\n",
       "      <td>German, Mr.  Aaron K</td>\n",
       "      <td>R1013</td>\n",
       "    </tr>\n",
       "    <tr>\n",
       "      <th>1</th>\n",
       "      <td>Id2334</td>\n",
       "      <td>1992</td>\n",
       "      <td>11</td>\n",
       "      <td>30</td>\n",
       "      <td>0</td>\n",
       "      <td>570.62</td>\n",
       "      <td>2</td>\n",
       "      <td>1</td>\n",
       "      <td>2</td>\n",
       "      <td>17.60</td>\n",
       "      <td>4.39</td>\n",
       "      <td>0</td>\n",
       "      <td>0</td>\n",
       "      <td>0</td>\n",
       "      <td>1</td>\n",
       "      <td>0</td>\n",
       "      <td>Rosendahl, Mr.  Evan P</td>\n",
       "      <td>R1013</td>\n",
       "    </tr>\n",
       "    <tr>\n",
       "      <th>2</th>\n",
       "      <td>Id2333</td>\n",
       "      <td>1993</td>\n",
       "      <td>6</td>\n",
       "      <td>30</td>\n",
       "      <td>0</td>\n",
       "      <td>600.00</td>\n",
       "      <td>2</td>\n",
       "      <td>1</td>\n",
       "      <td>2</td>\n",
       "      <td>16.47</td>\n",
       "      <td>6.35</td>\n",
       "      <td>0</td>\n",
       "      <td>0</td>\n",
       "      <td>1</td>\n",
       "      <td>1</td>\n",
       "      <td>0</td>\n",
       "      <td>Albano, Ms.  Julie</td>\n",
       "      <td>R1013</td>\n",
       "    </tr>\n",
       "    <tr>\n",
       "      <th>3</th>\n",
       "      <td>Id2332</td>\n",
       "      <td>1992</td>\n",
       "      <td>9</td>\n",
       "      <td>13</td>\n",
       "      <td>0</td>\n",
       "      <td>604.54</td>\n",
       "      <td>3</td>\n",
       "      <td>3</td>\n",
       "      <td>2</td>\n",
       "      <td>17.70</td>\n",
       "      <td>6.28</td>\n",
       "      <td>0</td>\n",
       "      <td>0</td>\n",
       "      <td>0</td>\n",
       "      <td>1</td>\n",
       "      <td>0</td>\n",
       "      <td>Riveros Gonzalez, Mr.  Juan D. Sr.</td>\n",
       "      <td>R1013</td>\n",
       "    </tr>\n",
       "    <tr>\n",
       "      <th>4</th>\n",
       "      <td>Id2331</td>\n",
       "      <td>1998</td>\n",
       "      <td>7</td>\n",
       "      <td>27</td>\n",
       "      <td>0</td>\n",
       "      <td>637.26</td>\n",
       "      <td>3</td>\n",
       "      <td>3</td>\n",
       "      <td>2</td>\n",
       "      <td>22.34</td>\n",
       "      <td>5.57</td>\n",
       "      <td>0</td>\n",
       "      <td>0</td>\n",
       "      <td>0</td>\n",
       "      <td>1</td>\n",
       "      <td>0</td>\n",
       "      <td>Brietzke, Mr.  Jordan</td>\n",
       "      <td>R1013</td>\n",
       "    </tr>\n",
       "  </tbody>\n",
       "</table>\n",
       "</div>"
      ],
      "text/plain": [
       "  Customer ID  year  month  date  children  charges  Hospital tier  City tier  \\\n",
       "0      Id2335  1992      7     9         0   563.84              2          3   \n",
       "1      Id2334  1992     11    30         0   570.62              2          1   \n",
       "2      Id2333  1993      6    30         0   600.00              2          1   \n",
       "3      Id2332  1992      9    13         0   604.54              3          3   \n",
       "4      Id2331  1998      7    27         0   637.26              3          3   \n",
       "\n",
       "   State ID    BMI  HBA1C  Heart Issues  Any Transplants  Cancer history  \\\n",
       "0         2  17.58   4.51             0                0               0   \n",
       "1         2  17.60   4.39             0                0               0   \n",
       "2         2  16.47   6.35             0                0               1   \n",
       "3         2  17.70   6.28             0                0               0   \n",
       "4         2  22.34   5.57             0                0               0   \n",
       "\n",
       "  NumberOfMajorSurgeries  smoker                                name  \\\n",
       "0                      1       0                German, Mr.  Aaron K   \n",
       "1                      1       0              Rosendahl, Mr.  Evan P   \n",
       "2                      1       0                  Albano, Ms.  Julie   \n",
       "3                      1       0  Riveros Gonzalez, Mr.  Juan D. Sr.   \n",
       "4                      1       0               Brietzke, Mr.  Jordan   \n",
       "\n",
       "  state_group  \n",
       "0       R1013  \n",
       "1       R1013  \n",
       "2       R1013  \n",
       "3       R1013  \n",
       "4       R1013  "
      ]
     },
     "execution_count": 50,
     "metadata": {},
     "output_type": "execute_result"
    }
   ],
   "source": [
    "data.head()"
   ]
  },
  {
   "cell_type": "code",
   "execution_count": 51,
   "id": "0cfb3388-4c65-4d06-a3b3-fbbc5c279407",
   "metadata": {},
   "outputs": [
    {
     "name": "stdout",
     "output_type": "stream",
     "text": [
      "<class 'pandas.core.frame.DataFrame'>\n",
      "Index: 1755 entries, 0 to 2334\n",
      "Data columns (total 18 columns):\n",
      " #   Column                  Non-Null Count  Dtype  \n",
      "---  ------                  --------------  -----  \n",
      " 0   Customer ID             1755 non-null   object \n",
      " 1   year                    1755 non-null   object \n",
      " 2   month                   1755 non-null   int64  \n",
      " 3   date                    1755 non-null   int64  \n",
      " 4   children                1755 non-null   int64  \n",
      " 5   charges                 1755 non-null   float64\n",
      " 6   Hospital tier           1755 non-null   int32  \n",
      " 7   City tier               1755 non-null   int32  \n",
      " 8   State ID                1755 non-null   int32  \n",
      " 9   BMI                     1755 non-null   float64\n",
      " 10  HBA1C                   1755 non-null   float64\n",
      " 11  Heart Issues            1755 non-null   int32  \n",
      " 12  Any Transplants         1755 non-null   int32  \n",
      " 13  Cancer history          1755 non-null   int32  \n",
      " 14  NumberOfMajorSurgeries  1755 non-null   object \n",
      " 15  smoker                  1755 non-null   int32  \n",
      " 16  name                    1755 non-null   object \n",
      " 17  state_group             1755 non-null   object \n",
      "dtypes: float64(3), int32(7), int64(3), object(5)\n",
      "memory usage: 212.5+ KB\n"
     ]
    }
   ],
   "source": [
    "data.info()"
   ]
  },
  {
   "cell_type": "code",
   "execution_count": 52,
   "id": "09380a9a-fb38-4a42-8faa-e14853328dd5",
   "metadata": {},
   "outputs": [],
   "source": [
    "data.year=data.year.astype(int)"
   ]
  },
  {
   "cell_type": "code",
   "execution_count": 53,
   "id": "ee6c1d73-4c9f-48e3-b459-f671fcf0955f",
   "metadata": {},
   "outputs": [],
   "source": [
    "data['age']= 2024 - data.year"
   ]
  },
  {
   "cell_type": "code",
   "execution_count": 54,
   "id": "7ff8d68b-d35a-4075-ac38-001ec4e7b545",
   "metadata": {},
   "outputs": [
    {
     "data": {
      "text/html": [
       "<div>\n",
       "<style scoped>\n",
       "    .dataframe tbody tr th:only-of-type {\n",
       "        vertical-align: middle;\n",
       "    }\n",
       "\n",
       "    .dataframe tbody tr th {\n",
       "        vertical-align: top;\n",
       "    }\n",
       "\n",
       "    .dataframe thead th {\n",
       "        text-align: right;\n",
       "    }\n",
       "</style>\n",
       "<table border=\"1\" class=\"dataframe\">\n",
       "  <thead>\n",
       "    <tr style=\"text-align: right;\">\n",
       "      <th></th>\n",
       "      <th>Customer ID</th>\n",
       "      <th>year</th>\n",
       "      <th>month</th>\n",
       "      <th>date</th>\n",
       "      <th>children</th>\n",
       "      <th>charges</th>\n",
       "      <th>Hospital tier</th>\n",
       "      <th>City tier</th>\n",
       "      <th>State ID</th>\n",
       "      <th>BMI</th>\n",
       "      <th>HBA1C</th>\n",
       "      <th>Heart Issues</th>\n",
       "      <th>Any Transplants</th>\n",
       "      <th>Cancer history</th>\n",
       "      <th>NumberOfMajorSurgeries</th>\n",
       "      <th>smoker</th>\n",
       "      <th>name</th>\n",
       "      <th>state_group</th>\n",
       "      <th>age</th>\n",
       "    </tr>\n",
       "  </thead>\n",
       "  <tbody>\n",
       "    <tr>\n",
       "      <th>0</th>\n",
       "      <td>Id2335</td>\n",
       "      <td>1992</td>\n",
       "      <td>7</td>\n",
       "      <td>9</td>\n",
       "      <td>0</td>\n",
       "      <td>563.84</td>\n",
       "      <td>2</td>\n",
       "      <td>3</td>\n",
       "      <td>2</td>\n",
       "      <td>17.58</td>\n",
       "      <td>4.51</td>\n",
       "      <td>0</td>\n",
       "      <td>0</td>\n",
       "      <td>0</td>\n",
       "      <td>1</td>\n",
       "      <td>0</td>\n",
       "      <td>German, Mr.  Aaron K</td>\n",
       "      <td>R1013</td>\n",
       "      <td>32</td>\n",
       "    </tr>\n",
       "    <tr>\n",
       "      <th>1</th>\n",
       "      <td>Id2334</td>\n",
       "      <td>1992</td>\n",
       "      <td>11</td>\n",
       "      <td>30</td>\n",
       "      <td>0</td>\n",
       "      <td>570.62</td>\n",
       "      <td>2</td>\n",
       "      <td>1</td>\n",
       "      <td>2</td>\n",
       "      <td>17.60</td>\n",
       "      <td>4.39</td>\n",
       "      <td>0</td>\n",
       "      <td>0</td>\n",
       "      <td>0</td>\n",
       "      <td>1</td>\n",
       "      <td>0</td>\n",
       "      <td>Rosendahl, Mr.  Evan P</td>\n",
       "      <td>R1013</td>\n",
       "      <td>32</td>\n",
       "    </tr>\n",
       "    <tr>\n",
       "      <th>2</th>\n",
       "      <td>Id2333</td>\n",
       "      <td>1993</td>\n",
       "      <td>6</td>\n",
       "      <td>30</td>\n",
       "      <td>0</td>\n",
       "      <td>600.00</td>\n",
       "      <td>2</td>\n",
       "      <td>1</td>\n",
       "      <td>2</td>\n",
       "      <td>16.47</td>\n",
       "      <td>6.35</td>\n",
       "      <td>0</td>\n",
       "      <td>0</td>\n",
       "      <td>1</td>\n",
       "      <td>1</td>\n",
       "      <td>0</td>\n",
       "      <td>Albano, Ms.  Julie</td>\n",
       "      <td>R1013</td>\n",
       "      <td>31</td>\n",
       "    </tr>\n",
       "    <tr>\n",
       "      <th>3</th>\n",
       "      <td>Id2332</td>\n",
       "      <td>1992</td>\n",
       "      <td>9</td>\n",
       "      <td>13</td>\n",
       "      <td>0</td>\n",
       "      <td>604.54</td>\n",
       "      <td>3</td>\n",
       "      <td>3</td>\n",
       "      <td>2</td>\n",
       "      <td>17.70</td>\n",
       "      <td>6.28</td>\n",
       "      <td>0</td>\n",
       "      <td>0</td>\n",
       "      <td>0</td>\n",
       "      <td>1</td>\n",
       "      <td>0</td>\n",
       "      <td>Riveros Gonzalez, Mr.  Juan D. Sr.</td>\n",
       "      <td>R1013</td>\n",
       "      <td>32</td>\n",
       "    </tr>\n",
       "    <tr>\n",
       "      <th>4</th>\n",
       "      <td>Id2331</td>\n",
       "      <td>1998</td>\n",
       "      <td>7</td>\n",
       "      <td>27</td>\n",
       "      <td>0</td>\n",
       "      <td>637.26</td>\n",
       "      <td>3</td>\n",
       "      <td>3</td>\n",
       "      <td>2</td>\n",
       "      <td>22.34</td>\n",
       "      <td>5.57</td>\n",
       "      <td>0</td>\n",
       "      <td>0</td>\n",
       "      <td>0</td>\n",
       "      <td>1</td>\n",
       "      <td>0</td>\n",
       "      <td>Brietzke, Mr.  Jordan</td>\n",
       "      <td>R1013</td>\n",
       "      <td>26</td>\n",
       "    </tr>\n",
       "  </tbody>\n",
       "</table>\n",
       "</div>"
      ],
      "text/plain": [
       "  Customer ID  year  month  date  children  charges  Hospital tier  City tier  \\\n",
       "0      Id2335  1992      7     9         0   563.84              2          3   \n",
       "1      Id2334  1992     11    30         0   570.62              2          1   \n",
       "2      Id2333  1993      6    30         0   600.00              2          1   \n",
       "3      Id2332  1992      9    13         0   604.54              3          3   \n",
       "4      Id2331  1998      7    27         0   637.26              3          3   \n",
       "\n",
       "   State ID    BMI  HBA1C  Heart Issues  Any Transplants  Cancer history  \\\n",
       "0         2  17.58   4.51             0                0               0   \n",
       "1         2  17.60   4.39             0                0               0   \n",
       "2         2  16.47   6.35             0                0               1   \n",
       "3         2  17.70   6.28             0                0               0   \n",
       "4         2  22.34   5.57             0                0               0   \n",
       "\n",
       "  NumberOfMajorSurgeries  smoker                                name  \\\n",
       "0                      1       0                German, Mr.  Aaron K   \n",
       "1                      1       0              Rosendahl, Mr.  Evan P   \n",
       "2                      1       0                  Albano, Ms.  Julie   \n",
       "3                      1       0  Riveros Gonzalez, Mr.  Juan D. Sr.   \n",
       "4                      1       0               Brietzke, Mr.  Jordan   \n",
       "\n",
       "  state_group  age  \n",
       "0       R1013   32  \n",
       "1       R1013   32  \n",
       "2       R1013   31  \n",
       "3       R1013   32  \n",
       "4       R1013   26  "
      ]
     },
     "execution_count": 54,
     "metadata": {},
     "output_type": "execute_result"
    }
   ],
   "source": [
    "data.head()"
   ]
  },
  {
   "cell_type": "markdown",
   "id": "235b1064-a502-4064-a9ec-6d42cb47c944",
   "metadata": {},
   "source": [
    "### 8. The gender of the patient may be an important factor in determining the cost of hospitalization. The salutations in a beneficiary's name can be used to determine their gender. Make a new field for the beneficiary's gender."
   ]
  },
  {
   "cell_type": "code",
   "execution_count": 131,
   "id": "a3bdd184-bee4-4ac2-9d4c-33d014e1d1ab",
   "metadata": {},
   "outputs": [],
   "source": [
    "data['Gender'] = ['0' if 'Mr.' in name else '1' for name in data['name']]"
   ]
  },
  {
   "cell_type": "code",
   "execution_count": 133,
   "id": "78742509-0aba-4d0e-afbf-cdb104f4d848",
   "metadata": {},
   "outputs": [
    {
     "data": {
      "text/html": [
       "<div>\n",
       "<style scoped>\n",
       "    .dataframe tbody tr th:only-of-type {\n",
       "        vertical-align: middle;\n",
       "    }\n",
       "\n",
       "    .dataframe tbody tr th {\n",
       "        vertical-align: top;\n",
       "    }\n",
       "\n",
       "    .dataframe thead th {\n",
       "        text-align: right;\n",
       "    }\n",
       "</style>\n",
       "<table border=\"1\" class=\"dataframe\">\n",
       "  <thead>\n",
       "    <tr style=\"text-align: right;\">\n",
       "      <th></th>\n",
       "      <th>Customer ID</th>\n",
       "      <th>year</th>\n",
       "      <th>month</th>\n",
       "      <th>date</th>\n",
       "      <th>children</th>\n",
       "      <th>charges</th>\n",
       "      <th>Hospital tier</th>\n",
       "      <th>City tier</th>\n",
       "      <th>State ID</th>\n",
       "      <th>BMI</th>\n",
       "      <th>HBA1C</th>\n",
       "      <th>Heart Issues</th>\n",
       "      <th>Any Transplants</th>\n",
       "      <th>Cancer history</th>\n",
       "      <th>NumberOfMajorSurgeries</th>\n",
       "      <th>smoker</th>\n",
       "      <th>name</th>\n",
       "      <th>state_group</th>\n",
       "      <th>age</th>\n",
       "      <th>Gender</th>\n",
       "    </tr>\n",
       "  </thead>\n",
       "  <tbody>\n",
       "    <tr>\n",
       "      <th>0</th>\n",
       "      <td>Id2335</td>\n",
       "      <td>1992</td>\n",
       "      <td>7</td>\n",
       "      <td>9</td>\n",
       "      <td>0</td>\n",
       "      <td>563.84</td>\n",
       "      <td>2</td>\n",
       "      <td>3</td>\n",
       "      <td>2</td>\n",
       "      <td>17.58</td>\n",
       "      <td>4.51</td>\n",
       "      <td>0</td>\n",
       "      <td>0</td>\n",
       "      <td>0</td>\n",
       "      <td>1</td>\n",
       "      <td>0</td>\n",
       "      <td>German, Mr.  Aaron K</td>\n",
       "      <td>R1013</td>\n",
       "      <td>32</td>\n",
       "      <td>0</td>\n",
       "    </tr>\n",
       "    <tr>\n",
       "      <th>1</th>\n",
       "      <td>Id2334</td>\n",
       "      <td>1992</td>\n",
       "      <td>11</td>\n",
       "      <td>30</td>\n",
       "      <td>0</td>\n",
       "      <td>570.62</td>\n",
       "      <td>2</td>\n",
       "      <td>1</td>\n",
       "      <td>2</td>\n",
       "      <td>17.60</td>\n",
       "      <td>4.39</td>\n",
       "      <td>0</td>\n",
       "      <td>0</td>\n",
       "      <td>0</td>\n",
       "      <td>1</td>\n",
       "      <td>0</td>\n",
       "      <td>Rosendahl, Mr.  Evan P</td>\n",
       "      <td>R1013</td>\n",
       "      <td>32</td>\n",
       "      <td>0</td>\n",
       "    </tr>\n",
       "    <tr>\n",
       "      <th>2</th>\n",
       "      <td>Id2333</td>\n",
       "      <td>1993</td>\n",
       "      <td>6</td>\n",
       "      <td>30</td>\n",
       "      <td>0</td>\n",
       "      <td>600.00</td>\n",
       "      <td>2</td>\n",
       "      <td>1</td>\n",
       "      <td>2</td>\n",
       "      <td>16.47</td>\n",
       "      <td>6.35</td>\n",
       "      <td>0</td>\n",
       "      <td>0</td>\n",
       "      <td>1</td>\n",
       "      <td>1</td>\n",
       "      <td>0</td>\n",
       "      <td>Albano, Ms.  Julie</td>\n",
       "      <td>R1013</td>\n",
       "      <td>31</td>\n",
       "      <td>1</td>\n",
       "    </tr>\n",
       "    <tr>\n",
       "      <th>3</th>\n",
       "      <td>Id2332</td>\n",
       "      <td>1992</td>\n",
       "      <td>9</td>\n",
       "      <td>13</td>\n",
       "      <td>0</td>\n",
       "      <td>604.54</td>\n",
       "      <td>3</td>\n",
       "      <td>3</td>\n",
       "      <td>2</td>\n",
       "      <td>17.70</td>\n",
       "      <td>6.28</td>\n",
       "      <td>0</td>\n",
       "      <td>0</td>\n",
       "      <td>0</td>\n",
       "      <td>1</td>\n",
       "      <td>0</td>\n",
       "      <td>Riveros Gonzalez, Mr.  Juan D. Sr.</td>\n",
       "      <td>R1013</td>\n",
       "      <td>32</td>\n",
       "      <td>0</td>\n",
       "    </tr>\n",
       "    <tr>\n",
       "      <th>4</th>\n",
       "      <td>Id2331</td>\n",
       "      <td>1998</td>\n",
       "      <td>7</td>\n",
       "      <td>27</td>\n",
       "      <td>0</td>\n",
       "      <td>637.26</td>\n",
       "      <td>3</td>\n",
       "      <td>3</td>\n",
       "      <td>2</td>\n",
       "      <td>22.34</td>\n",
       "      <td>5.57</td>\n",
       "      <td>0</td>\n",
       "      <td>0</td>\n",
       "      <td>0</td>\n",
       "      <td>1</td>\n",
       "      <td>0</td>\n",
       "      <td>Brietzke, Mr.  Jordan</td>\n",
       "      <td>R1013</td>\n",
       "      <td>26</td>\n",
       "      <td>0</td>\n",
       "    </tr>\n",
       "  </tbody>\n",
       "</table>\n",
       "</div>"
      ],
      "text/plain": [
       "  Customer ID  year  month  date  children  charges  Hospital tier  City tier  \\\n",
       "0      Id2335  1992      7     9         0   563.84              2          3   \n",
       "1      Id2334  1992     11    30         0   570.62              2          1   \n",
       "2      Id2333  1993      6    30         0   600.00              2          1   \n",
       "3      Id2332  1992      9    13         0   604.54              3          3   \n",
       "4      Id2331  1998      7    27         0   637.26              3          3   \n",
       "\n",
       "   State ID    BMI  HBA1C  Heart Issues  Any Transplants  Cancer history  \\\n",
       "0         2  17.58   4.51             0                0               0   \n",
       "1         2  17.60   4.39             0                0               0   \n",
       "2         2  16.47   6.35             0                0               1   \n",
       "3         2  17.70   6.28             0                0               0   \n",
       "4         2  22.34   5.57             0                0               0   \n",
       "\n",
       "  NumberOfMajorSurgeries  smoker                                name  \\\n",
       "0                      1       0                German, Mr.  Aaron K   \n",
       "1                      1       0              Rosendahl, Mr.  Evan P   \n",
       "2                      1       0                  Albano, Ms.  Julie   \n",
       "3                      1       0  Riveros Gonzalez, Mr.  Juan D. Sr.   \n",
       "4                      1       0               Brietzke, Mr.  Jordan   \n",
       "\n",
       "  state_group  age Gender  \n",
       "0       R1013   32      0  \n",
       "1       R1013   32      0  \n",
       "2       R1013   31      1  \n",
       "3       R1013   32      0  \n",
       "4       R1013   26      0  "
      ]
     },
     "execution_count": 133,
     "metadata": {},
     "output_type": "execute_result"
    }
   ],
   "source": [
    "data.head()"
   ]
  },
  {
   "cell_type": "markdown",
   "id": "8ddea85a-7078-4400-8c61-048f6a540718",
   "metadata": {},
   "source": [
    "### 9. You should also visualize the distribution of costs using a histogram, box and whisker plot, and swarm plot."
   ]
  },
  {
   "cell_type": "code",
   "execution_count": 143,
   "id": "badd0fb6-f2f1-4643-941d-395fd24d1f77",
   "metadata": {},
   "outputs": [
    {
     "data": {
      "image/png": "[encoded data removed]",
      "text/plain": [
       "<Figure size 700x600 with 1 Axes>"
      ]
     },
     "metadata": {},
     "output_type": "display_data"
    }
   ],
   "source": [
    "plt.figure(figsize=(7,6))\n",
    "sns.histplot(data['charges'])\n",
    "plt.title('Distribution of Charges: Histogram');"
   ]
  },
  {
   "cell_type": "code",
   "execution_count": 153,
   "id": "a5c14c7c-263e-4f53-91bb-f42bce828c2a",
   "metadata": {},
   "outputs": [
    {
     "data": {
      "image/png": "[encoded data removed]",
      "text/plain": [
       "<Figure size 700x600 with 1 Axes>"
      ]
     },
     "metadata": {},
     "output_type": "display_data"
    }
   ],
   "source": [
    "plt.figure(figsize=(7,6))\n",
    "sns.boxplot(data['charges'])\n",
    "plt.title('Distribution of Charges: Boxplot');"
   ]
  },
  {
   "cell_type": "code",
   "execution_count": 155,
   "id": "daf28ef8-1ace-4ebb-9c61-2640c9079007",
   "metadata": {},
   "outputs": [
    {
     "data": {
      "image/png": "[encoded data removed]",
      "text/plain": [
       "<Figure size 700x600 with 1 Axes>"
      ]
     },
     "metadata": {},
     "output_type": "display_data"
    }
   ],
   "source": [
    "plt.figure(figsize=(7,6))\n",
    "sns.swarmplot(data['charges'])\n",
    "plt.title('Distribution of Charges: Swarmplot');"
   ]
  },
  {
   "cell_type": "markdown",
   "id": "8b197ef0-6762-480e-8bcd-189b4748f7ec",
   "metadata": {},
   "source": [
    "### 10. State how the distribution is different across gender and tiers of hospitals"
   ]
  },
  {
   "cell_type": "code",
   "execution_count": 161,
   "id": "c6b8b885-e785-411f-a06c-314c351fdcab",
   "metadata": {},
   "outputs": [
    {
     "data": {
      "image/png": "[encoded data removed]",
      "text/plain": [
       "<Figure size 800x800 with 1 Axes>"
      ]
     },
     "metadata": {},
     "output_type": "display_data"
    }
   ],
   "source": [
    "plt.figure(figsize=(8,8))\n",
    "sns.boxplot(x = 'Gender', y = 'charges',data = data)\n",
    "plt.title('Distribution of cost across Gender');"
   ]
  },
  {
   "cell_type": "code",
   "execution_count": 167,
   "id": "b033febe-3886-4aaa-bdbd-258421a1b149",
   "metadata": {},
   "outputs": [
    {
     "data": {
      "image/png": "[encoded data removed]",
      "text/plain": [
       "<Figure size 800x500 with 1 Axes>"
      ]
     },
     "metadata": {},
     "output_type": "display_data"
    }
   ],
   "source": [
    "plt.figure(figsize=(8,5))\n",
    "sns.boxplot(x = 'City tier', y = 'charges',data = data)\n",
    "plt.title('Distribution of cost across City Tiers');"
   ]
  },
  {
   "cell_type": "markdown",
   "id": "3369a29c-c055-46c2-b3c4-465ca8e4cd9d",
   "metadata": {},
   "source": [
    "### 11. Create a radar chart to showcase the median hospitalization cost for each tier of hospitals"
   ]
  },
  {
   "cell_type": "code",
   "execution_count": 170,
   "id": "4c8856e1-c0ff-4b25-bafe-035d80ab1722",
   "metadata": {},
   "outputs": [
    {
     "data": {
      "text/plain": [
       "9"
      ]
     },
     "execution_count": 170,
     "metadata": {},
     "output_type": "execute_result"
    }
   ],
   "source": [
    "len('City tier')"
   ]
  },
  {
   "cell_type": "code",
   "execution_count": 174,
   "id": "b0cb9f81-0474-484c-8346-0060f1694726",
   "metadata": {},
   "outputs": [],
   "source": [
    "from math import pi  # Ensure pi is imported"
   ]
  },
  {
   "cell_type": "code",
   "execution_count": 181,
   "id": "5c761454-baae-4ec7-bb00-bc403125cf67",
   "metadata": {},
   "outputs": [
    {
     "data": {
      "image/png": "[encoded data removed]",
      "text/plain": [
       "<Figure size 600x600 with 1 Axes>"
      ]
     },
     "metadata": {},
     "output_type": "display_data"
    }
   ],
   "source": [
    "# Calculate the median charges for each hospital tier\n",
    "median_charges = data.groupby('Hospital tier')['charges'].median()\n",
    "\n",
    "# Prepare the radar chart data\n",
    "tiers = list(median_charges.index)\n",
    "medians = list(median_charges.values)\n",
    "\n",
    "# Number of variables we're plotting (number of tiers)\n",
    "num_vars = len(tiers)\n",
    "\n",
    "# Create a list of angles for the radar chart, equally spaced around a circle\n",
    "angles = [n / float(num_vars) * 2 * pi for n in range(num_vars)]\n",
    "angles += angles[:1]  # Close the loop\n",
    "\n",
    "# Add the first median to the end to close the loop on the radar chart\n",
    "medians += medians[:1]\n",
    "\n",
    "# Create the radar chart\n",
    "plt.figure(figsize=(6, 6))\n",
    "ax = plt.subplot(111, polar=True)\n",
    "\n",
    "# Draw one axis per variable and add labels\n",
    "plt.xticks(angles[:-1], tiers)\n",
    "\n",
    "# Draw y-labels (the medians)\n",
    "ax.set_rlabel_position(0)\n",
    "plt.yticks([min(medians), np.median(medians), max(medians)], [\"Low\", \"Medium\", \"High\"], color=\"grey\", size=7)\n",
    "plt.ylim(min(medians), max(medians))\n",
    "\n",
    "# Plot the data on the radar chart\n",
    "ax.plot(angles, medians, linewidth=2, linestyle='solid')\n",
    "\n",
    "# Fill the area inside the plot\n",
    "ax.fill(angles, medians, 'b', alpha=0.3)\n",
    "\n",
    "# Title of the radar chart\n",
    "plt.title('Median Hospitalization Cost by Hospital Tier', size=15, color='blue', y=1.1)\n",
    "\n",
    "# Show the radar chart\n",
    "plt.show()\n"
   ]
  },
  {
   "cell_type": "markdown",
   "id": "74ce453d-059d-4a0f-b0ff-89e5aa1cef3f",
   "metadata": {},
   "source": [
    "### 12. Create a frequency table and a stacked bar chart to visualize the count of people in the different tiers of cities and hospitals"
   ]
  },
  {
   "cell_type": "code",
   "execution_count": 189,
   "id": "d8772291-9b91-4129-acc2-fc4e39fe9d49",
   "metadata": {},
   "outputs": [
    {
     "name": "stdout",
     "output_type": "stream",
     "text": [
      "Hospital tier   1    2    3\n",
      "City tier                  \n",
      "1              64  317  160\n",
      "2              89  365  157\n",
      "3              91  348  164\n"
     ]
    },
    {
     "data": {
      "image/png": "[encoded data removed]",
      "text/plain": [
       "<Figure size 1000x600 with 1 Axes>"
      ]
     },
     "metadata": {},
     "output_type": "display_data"
    }
   ],
   "source": [
    "# Step 1: Create a frequency table\n",
    "frequency_table = pd.crosstab(data['City tier'], data['Hospital tier'])\n",
    "\n",
    "# Display the frequency table\n",
    "print(frequency_table)\n",
    "\n",
    "# Step 2: Create a stacked bar chart\n",
    "# Plot the frequency table as a stacked bar chart\n",
    "frequency_table.plot(kind='bar', stacked=True, figsize=(10, 6), color=['#FF9999', '#66B3FF', '#99FF99'])\n",
    "\n",
    "# Add chart title and labels\n",
    "plt.title('Count of People by City Tier and Hospital Tier', fontsize=16)\n",
    "plt.xlabel('City Tier', fontsize=12)\n",
    "plt.ylabel('Number of People', fontsize=12)\n",
    "\n",
    "# Display the legend\n",
    "plt.legend(title='Hospital Tier')\n",
    "\n",
    "# Show the plot\n",
    "plt.tight_layout()\n",
    "plt.show()\n"
   ]
  },
  {
   "cell_type": "code",
   "execution_count": null,
   "id": "a0532791-9fd7-45be-be0a-93031f81c5ae",
   "metadata": {},
   "outputs": [],
   "source": []
  },
  {
   "cell_type": "code",
   "execution_count": null,
   "id": "297c2a5e-9be5-4afa-bed4-f8d8f40989db",
   "metadata": {},
   "outputs": [],
   "source": []
  },
  {
   "cell_type": "code",
   "execution_count": null,
   "id": "4fe288b8-3b9b-4c0c-87b0-760afb06ccd7",
   "metadata": {},
   "outputs": [],
   "source": []
  },
  {
   "cell_type": "code",
   "execution_count": null,
   "id": "d26115b2-4864-4bae-b102-7404729ebb84",
   "metadata": {},
   "outputs": [],
   "source": []
  },
  {
   "cell_type": "code",
   "execution_count": null,
   "id": "705394c2-c193-48b8-9a13-72292e280cc4",
   "metadata": {},
   "outputs": [],
   "source": []
  },
  {
   "cell_type": "code",
   "execution_count": null,
   "id": "7cc6190d-8705-4aed-aede-57cda7261e28",
   "metadata": {},
   "outputs": [],
   "source": []
  },
  {
   "cell_type": "code",
   "execution_count": null,
   "id": "466f1047-44da-44c0-b3bc-424b890eb1da",
   "metadata": {},
   "outputs": [],
   "source": []
  },
  {
   "cell_type": "code",
   "execution_count": null,
   "id": "ff1c26c3-a6fb-4c12-a9bd-c96dbf8f62c6",
   "metadata": {},
   "outputs": [],
   "source": []
  },
  {
   "cell_type": "code",
   "execution_count": null,
   "id": "8a74a4ce-ebe3-4866-9b43-d9c42c0c3e14",
   "metadata": {},
   "outputs": [],
   "source": []
  }
 ],
 "metadata": {
  "kernelspec": {
   "display_name": "Python 3 (ipykernel)",
   "language": "python",
   "name": "python3"
  },
  "language_info": {
   "codemirror_mode": {
    "name": "ipython",
    "version": 3
   },
   "file_extension": ".py",
   "mimetype": "text/x-python",
   "name": "python",
   "nbconvert_exporter": "python",
   "pygments_lexer": "ipython3",
   "version": "3.12.4"
  }
 },
 "nbformat": 4,
 "nbformat_minor": 5
}
